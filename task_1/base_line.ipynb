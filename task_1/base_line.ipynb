{
 "cells": [
  {
   "cell_type": "markdown",
   "metadata": {},
   "source": [
    "### 1、任务详情"
   ]
  },
  {
   "cell_type": "markdown",
   "metadata": {},
   "source": [
    "【任务1 - 数据分析（2天）】\n",
    "- 数据类型的分析\n",
    "- 无关特征删除\n",
    "- 数据类型转换\n",
    "- 缺失值处理\n",
    "- 以及你能想到和借鉴的数据分析处理\n",
    "- 预测贷款用户是否会逾期。表格中 \"status\" 是结果标签：0表示未逾期，1表示逾期\n",
    "- 要求：数据切分方式 - 三七分，其中测试集30%，训练集70%，随机种子设置为2018"
   ]
  },
  {
   "cell_type": "code",
   "execution_count": 264,
   "metadata": {},
   "outputs": [],
   "source": [
    "import pandas as pd\n",
    "import numpy as np\n",
    "import warnings\n",
    "warnings.filterwarnings('ignore')\n",
    "import matplotlib.pyplot as plt\n",
    "%matplotlib inline\n",
    "import seaborn as sns"
   ]
  },
  {
   "cell_type": "code",
   "execution_count": 265,
   "metadata": {},
   "outputs": [],
   "source": [
    "data = pd.read_csv('data.csv')"
   ]
  },
  {
   "cell_type": "code",
   "execution_count": 266,
   "metadata": {},
   "outputs": [],
   "source": [
    "data_bak = data.copy()"
   ]
  },
  {
   "cell_type": "markdown",
   "metadata": {
    "toc-hr-collapsed": false
   },
   "source": [
    "### 2、数据简介"
   ]
  },
  {
   "cell_type": "code",
   "execution_count": 267,
   "metadata": {},
   "outputs": [
    {
     "name": "stdout",
     "output_type": "stream",
     "text": [
      "<class 'pandas.core.frame.DataFrame'>\n",
      "RangeIndex: 4754 entries, 0 to 4753\n",
      "Columns: 90 entries, Unnamed: 0 to loans_latest_day\n",
      "dtypes: float64(71), int64(13), object(6)\n",
      "memory usage: 3.3+ MB\n"
     ]
    }
   ],
   "source": [
    "data.info(verbose=False)"
   ]
  },
  {
   "cell_type": "code",
   "execution_count": 268,
   "metadata": {},
   "outputs": [
    {
     "data": {
      "text/html": [
       "<div>\n",
       "<style scoped>\n",
       "    .dataframe tbody tr th:only-of-type {\n",
       "        vertical-align: middle;\n",
       "    }\n",
       "\n",
       "    .dataframe tbody tr th {\n",
       "        vertical-align: top;\n",
       "    }\n",
       "\n",
       "    .dataframe thead th {\n",
       "        text-align: right;\n",
       "    }\n",
       "</style>\n",
       "<table border=\"1\" class=\"dataframe\">\n",
       "  <thead>\n",
       "    <tr style=\"text-align: right;\">\n",
       "      <th></th>\n",
       "      <th>count</th>\n",
       "      <th>unique</th>\n",
       "      <th>top</th>\n",
       "      <th>freq</th>\n",
       "      <th>mean</th>\n",
       "      <th>std</th>\n",
       "      <th>min</th>\n",
       "      <th>50%</th>\n",
       "      <th>max</th>\n",
       "      <th>null</th>\n",
       "      <th>miss_%</th>\n",
       "      <th>dtype</th>\n",
       "    </tr>\n",
       "  </thead>\n",
       "  <tbody>\n",
       "    <tr>\n",
       "      <th>student_feature</th>\n",
       "      <td>1756</td>\n",
       "      <td>NaN</td>\n",
       "      <td>NaN</td>\n",
       "      <td>NaN</td>\n",
       "      <td>1.00114</td>\n",
       "      <td>0.0337387</td>\n",
       "      <td>1</td>\n",
       "      <td>1</td>\n",
       "      <td>2</td>\n",
       "      <td>2998</td>\n",
       "      <td>0.630627</td>\n",
       "      <td>float64</td>\n",
       "    </tr>\n",
       "    <tr>\n",
       "      <th>cross_consume_count_last_1_month</th>\n",
       "      <td>4328</td>\n",
       "      <td>NaN</td>\n",
       "      <td>NaN</td>\n",
       "      <td>NaN</td>\n",
       "      <td>0.642329</td>\n",
       "      <td>2.34323</td>\n",
       "      <td>0</td>\n",
       "      <td>0</td>\n",
       "      <td>69</td>\n",
       "      <td>426</td>\n",
       "      <td>0.0896088</td>\n",
       "      <td>float64</td>\n",
       "    </tr>\n",
       "    <tr>\n",
       "      <th>latest_six_month_apply</th>\n",
       "      <td>4450</td>\n",
       "      <td>NaN</td>\n",
       "      <td>NaN</td>\n",
       "      <td>NaN</td>\n",
       "      <td>12.3643</td>\n",
       "      <td>9.27498</td>\n",
       "      <td>0</td>\n",
       "      <td>10</td>\n",
       "      <td>80</td>\n",
       "      <td>304</td>\n",
       "      <td>0.0639462</td>\n",
       "      <td>float64</td>\n",
       "    </tr>\n",
       "    <tr>\n",
       "      <th>latest_one_month_apply</th>\n",
       "      <td>4450</td>\n",
       "      <td>NaN</td>\n",
       "      <td>NaN</td>\n",
       "      <td>NaN</td>\n",
       "      <td>4.32944</td>\n",
       "      <td>4.52552</td>\n",
       "      <td>0</td>\n",
       "      <td>3</td>\n",
       "      <td>38</td>\n",
       "      <td>304</td>\n",
       "      <td>0.0639462</td>\n",
       "      <td>float64</td>\n",
       "    </tr>\n",
       "    <tr>\n",
       "      <th>latest_query_time</th>\n",
       "      <td>4450</td>\n",
       "      <td>207</td>\n",
       "      <td>4/14/2018</td>\n",
       "      <td>423</td>\n",
       "      <td>NaN</td>\n",
       "      <td>NaN</td>\n",
       "      <td>NaN</td>\n",
       "      <td>NaN</td>\n",
       "      <td>NaN</td>\n",
       "      <td>304</td>\n",
       "      <td>0.0639462</td>\n",
       "      <td>object</td>\n",
       "    </tr>\n",
       "  </tbody>\n",
       "</table>\n",
       "</div>"
      ],
      "text/plain": [
       "                                 count unique        top freq      mean  \\\n",
       "student_feature                   1756    NaN        NaN  NaN   1.00114   \n",
       "cross_consume_count_last_1_month  4328    NaN        NaN  NaN  0.642329   \n",
       "latest_six_month_apply            4450    NaN        NaN  NaN   12.3643   \n",
       "latest_one_month_apply            4450    NaN        NaN  NaN   4.32944   \n",
       "latest_query_time                 4450    207  4/14/2018  423       NaN   \n",
       "\n",
       "                                        std  min  50%  max  null     miss_%  \\\n",
       "student_feature                   0.0337387    1    1    2  2998   0.630627   \n",
       "cross_consume_count_last_1_month    2.34323    0    0   69   426  0.0896088   \n",
       "latest_six_month_apply              9.27498    0   10   80   304  0.0639462   \n",
       "latest_one_month_apply              4.52552    0    3   38   304  0.0639462   \n",
       "latest_query_time                       NaN  NaN  NaN  NaN   304  0.0639462   \n",
       "\n",
       "                                    dtype  \n",
       "student_feature                   float64  \n",
       "cross_consume_count_last_1_month  float64  \n",
       "latest_six_month_apply            float64  \n",
       "latest_one_month_apply            float64  \n",
       "latest_query_time                  object  "
      ]
     },
     "execution_count": 268,
     "metadata": {},
     "output_type": "execute_result"
    }
   ],
   "source": [
    "def get_data_msg(data):\n",
    "    data_des = data.describe(percentiles=[], include='all').T\n",
    "    data_des['null'] = data.shape[0] - data_des['count']\n",
    "    data_des['miss_%'] = data_des['null'] / data.shape[0]\n",
    "    data_des['dtype'] = data.dtypes\n",
    "    return data_des.sort_values('null', ascending=False)\n",
    "get_data_msg(data).head()"
   ]
  },
  {
   "cell_type": "markdown",
   "metadata": {},
   "source": [
    "数据集有84个数值型特征以及6个非数值型特征，其中数值型特征有71个float型和13个int型\n",
    "\n",
    "其中student_feature特征有大量缺失值，另外部分特征有约300个左右的缺失值。"
   ]
  },
  {
   "cell_type": "markdown",
   "metadata": {},
   "source": [
    "### 3、无关数据处理"
   ]
  },
  {
   "cell_type": "code",
   "execution_count": 269,
   "metadata": {
    "toc-hr-collapsed": false
   },
   "outputs": [],
   "source": [
    "# ['custid','trade_no','id_name','Unnamed: 0'] 这些与数据没有直接关系\n",
    "data.drop(['custid','trade_no','id_name','Unnamed: 0'], axis=1, inplace=True)"
   ]
  },
  {
   "cell_type": "code",
   "execution_count": 270,
   "metadata": {},
   "outputs": [],
   "source": [
    "# 其次还有整个属性列只有一个属性值的列\n",
    "data_msg = get_data_msg(data)\n",
    "data.drop(data_msg[data_msg['unique'] == 1].index.tolist(), axis=1, inplace=True)"
   ]
  },
  {
   "cell_type": "code",
   "execution_count": 271,
   "metadata": {},
   "outputs": [],
   "source": [
    "# 特征分离\n",
    "data_obj = data.select_dtypes(include='object').copy()\n",
    "data_num = data.select_dtypes(include='number').copy()"
   ]
  },
  {
   "cell_type": "markdown",
   "metadata": {},
   "source": [
    "### 4、缺失值处理"
   ]
  },
  {
   "cell_type": "markdown",
   "metadata": {},
   "source": [
    "- 数值型数据"
   ]
  },
  {
   "cell_type": "code",
   "execution_count": 272,
   "metadata": {},
   "outputs": [
    {
     "data": {
      "text/html": [
       "<div>\n",
       "<style scoped>\n",
       "    .dataframe tbody tr th:only-of-type {\n",
       "        vertical-align: middle;\n",
       "    }\n",
       "\n",
       "    .dataframe tbody tr th {\n",
       "        vertical-align: top;\n",
       "    }\n",
       "\n",
       "    .dataframe thead th {\n",
       "        text-align: right;\n",
       "    }\n",
       "</style>\n",
       "<table border=\"1\" class=\"dataframe\">\n",
       "  <thead>\n",
       "    <tr style=\"text-align: right;\">\n",
       "      <th></th>\n",
       "      <th>count</th>\n",
       "      <th>mean</th>\n",
       "      <th>std</th>\n",
       "      <th>min</th>\n",
       "      <th>50%</th>\n",
       "      <th>max</th>\n",
       "      <th>null</th>\n",
       "      <th>miss_%</th>\n",
       "      <th>dtype</th>\n",
       "    </tr>\n",
       "  </thead>\n",
       "  <tbody>\n",
       "    <tr>\n",
       "      <th>student_feature</th>\n",
       "      <td>1756.0</td>\n",
       "      <td>1.001139</td>\n",
       "      <td>0.033739</td>\n",
       "      <td>1.0</td>\n",
       "      <td>1.0</td>\n",
       "      <td>2.0</td>\n",
       "      <td>2998.0</td>\n",
       "      <td>0.630627</td>\n",
       "      <td>float64</td>\n",
       "    </tr>\n",
       "    <tr>\n",
       "      <th>cross_consume_count_last_1_month</th>\n",
       "      <td>4328.0</td>\n",
       "      <td>0.642329</td>\n",
       "      <td>2.343228</td>\n",
       "      <td>0.0</td>\n",
       "      <td>0.0</td>\n",
       "      <td>69.0</td>\n",
       "      <td>426.0</td>\n",
       "      <td>0.089609</td>\n",
       "      <td>float64</td>\n",
       "    </tr>\n",
       "    <tr>\n",
       "      <th>latest_one_month_apply</th>\n",
       "      <td>4450.0</td>\n",
       "      <td>4.329438</td>\n",
       "      <td>4.525521</td>\n",
       "      <td>0.0</td>\n",
       "      <td>3.0</td>\n",
       "      <td>38.0</td>\n",
       "      <td>304.0</td>\n",
       "      <td>0.063946</td>\n",
       "      <td>float64</td>\n",
       "    </tr>\n",
       "    <tr>\n",
       "      <th>apply_score</th>\n",
       "      <td>4450.0</td>\n",
       "      <td>576.632584</td>\n",
       "      <td>51.167375</td>\n",
       "      <td>450.0</td>\n",
       "      <td>549.0</td>\n",
       "      <td>687.0</td>\n",
       "      <td>304.0</td>\n",
       "      <td>0.063946</td>\n",
       "      <td>float64</td>\n",
       "    </tr>\n",
       "    <tr>\n",
       "      <th>apply_credibility</th>\n",
       "      <td>4450.0</td>\n",
       "      <td>75.998876</td>\n",
       "      <td>4.168916</td>\n",
       "      <td>50.0</td>\n",
       "      <td>76.0</td>\n",
       "      <td>93.0</td>\n",
       "      <td>304.0</td>\n",
       "      <td>0.063946</td>\n",
       "      <td>float64</td>\n",
       "    </tr>\n",
       "  </tbody>\n",
       "</table>\n",
       "</div>"
      ],
      "text/plain": [
       "                                   count        mean        std    min    50%  \\\n",
       "student_feature                   1756.0    1.001139   0.033739    1.0    1.0   \n",
       "cross_consume_count_last_1_month  4328.0    0.642329   2.343228    0.0    0.0   \n",
       "latest_one_month_apply            4450.0    4.329438   4.525521    0.0    3.0   \n",
       "apply_score                       4450.0  576.632584  51.167375  450.0  549.0   \n",
       "apply_credibility                 4450.0   75.998876   4.168916   50.0   76.0   \n",
       "\n",
       "                                    max    null    miss_%    dtype  \n",
       "student_feature                     2.0  2998.0  0.630627  float64  \n",
       "cross_consume_count_last_1_month   69.0   426.0  0.089609  float64  \n",
       "latest_one_month_apply             38.0   304.0  0.063946  float64  \n",
       "apply_score                       687.0   304.0  0.063946  float64  \n",
       "apply_credibility                  93.0   304.0  0.063946  float64  "
      ]
     },
     "execution_count": 272,
     "metadata": {},
     "output_type": "execute_result"
    }
   ],
   "source": [
    "get_data_msg(data_num).head()\n",
    "# student_feature缺失率大于50%，其他基本在10%以下\n",
    "# 处理方式\n",
    "# student_feature列删除\n",
    "# 其他中中位数填补"
   ]
  },
  {
   "cell_type": "code",
   "execution_count": 273,
   "metadata": {},
   "outputs": [
    {
     "data": {
      "text/html": [
       "<div>\n",
       "<style scoped>\n",
       "    .dataframe tbody tr th:only-of-type {\n",
       "        vertical-align: middle;\n",
       "    }\n",
       "\n",
       "    .dataframe tbody tr th {\n",
       "        vertical-align: top;\n",
       "    }\n",
       "\n",
       "    .dataframe thead th {\n",
       "        text-align: right;\n",
       "    }\n",
       "</style>\n",
       "<table border=\"1\" class=\"dataframe\">\n",
       "  <thead>\n",
       "    <tr style=\"text-align: right;\">\n",
       "      <th></th>\n",
       "      <th>count</th>\n",
       "      <th>mean</th>\n",
       "      <th>std</th>\n",
       "      <th>min</th>\n",
       "      <th>50%</th>\n",
       "      <th>max</th>\n",
       "      <th>null</th>\n",
       "      <th>miss_%</th>\n",
       "      <th>dtype</th>\n",
       "    </tr>\n",
       "  </thead>\n",
       "  <tbody>\n",
       "    <tr>\n",
       "      <th>low_volume_percent</th>\n",
       "      <td>4754.0</td>\n",
       "      <td>0.021801</td>\n",
       "      <td>0.041519</td>\n",
       "      <td>0.0</td>\n",
       "      <td>0.01</td>\n",
       "      <td>1.0</td>\n",
       "      <td>0.0</td>\n",
       "      <td>0.0</td>\n",
       "      <td>float64</td>\n",
       "    </tr>\n",
       "    <tr>\n",
       "      <th>middle_volume_percent</th>\n",
       "      <td>4754.0</td>\n",
       "      <td>0.901319</td>\n",
       "      <td>0.144831</td>\n",
       "      <td>0.0</td>\n",
       "      <td>0.96</td>\n",
       "      <td>1.0</td>\n",
       "      <td>0.0</td>\n",
       "      <td>0.0</td>\n",
       "      <td>float64</td>\n",
       "    </tr>\n",
       "    <tr>\n",
       "      <th>latest_one_month_loan</th>\n",
       "      <td>4754.0</td>\n",
       "      <td>0.905553</td>\n",
       "      <td>1.466836</td>\n",
       "      <td>0.0</td>\n",
       "      <td>0.00</td>\n",
       "      <td>15.0</td>\n",
       "      <td>0.0</td>\n",
       "      <td>0.0</td>\n",
       "      <td>float64</td>\n",
       "    </tr>\n",
       "    <tr>\n",
       "      <th>loans_cash_count</th>\n",
       "      <td>4754.0</td>\n",
       "      <td>8.043542</td>\n",
       "      <td>5.210809</td>\n",
       "      <td>0.0</td>\n",
       "      <td>7.00</td>\n",
       "      <td>31.0</td>\n",
       "      <td>0.0</td>\n",
       "      <td>0.0</td>\n",
       "      <td>float64</td>\n",
       "    </tr>\n",
       "    <tr>\n",
       "      <th>consfin_org_count_behavior</th>\n",
       "      <td>4754.0</td>\n",
       "      <td>4.686580</td>\n",
       "      <td>2.885609</td>\n",
       "      <td>0.0</td>\n",
       "      <td>4.00</td>\n",
       "      <td>18.0</td>\n",
       "      <td>0.0</td>\n",
       "      <td>0.0</td>\n",
       "      <td>float64</td>\n",
       "    </tr>\n",
       "  </tbody>\n",
       "</table>\n",
       "</div>"
      ],
      "text/plain": [
       "                             count      mean       std  min   50%   max  null  \\\n",
       "low_volume_percent          4754.0  0.021801  0.041519  0.0  0.01   1.0   0.0   \n",
       "middle_volume_percent       4754.0  0.901319  0.144831  0.0  0.96   1.0   0.0   \n",
       "latest_one_month_loan       4754.0  0.905553  1.466836  0.0  0.00  15.0   0.0   \n",
       "loans_cash_count            4754.0  8.043542  5.210809  0.0  7.00  31.0   0.0   \n",
       "consfin_org_count_behavior  4754.0  4.686580  2.885609  0.0  4.00  18.0   0.0   \n",
       "\n",
       "                            miss_%    dtype  \n",
       "low_volume_percent             0.0  float64  \n",
       "middle_volume_percent          0.0  float64  \n",
       "latest_one_month_loan          0.0  float64  \n",
       "loans_cash_count               0.0  float64  \n",
       "consfin_org_count_behavior     0.0  float64  "
      ]
     },
     "execution_count": 273,
     "metadata": {},
     "output_type": "execute_result"
    }
   ],
   "source": [
    "data_num = data_num.drop(labels='student_feature', axis=1)\n",
    "data_num = data_num.fillna(data_num.median())\n",
    "get_data_msg(data_num).head()"
   ]
  },
  {
   "cell_type": "markdown",
   "metadata": {},
   "source": [
    "- 非数值型数据"
   ]
  },
  {
   "cell_type": "code",
   "execution_count": 274,
   "metadata": {},
   "outputs": [
    {
     "data": {
      "text/html": [
       "<div>\n",
       "<style scoped>\n",
       "    .dataframe tbody tr th:only-of-type {\n",
       "        vertical-align: middle;\n",
       "    }\n",
       "\n",
       "    .dataframe tbody tr th {\n",
       "        vertical-align: top;\n",
       "    }\n",
       "\n",
       "    .dataframe thead th {\n",
       "        text-align: right;\n",
       "    }\n",
       "</style>\n",
       "<table border=\"1\" class=\"dataframe\">\n",
       "  <thead>\n",
       "    <tr style=\"text-align: right;\">\n",
       "      <th></th>\n",
       "      <th>count</th>\n",
       "      <th>unique</th>\n",
       "      <th>top</th>\n",
       "      <th>freq</th>\n",
       "      <th>null</th>\n",
       "      <th>miss_%</th>\n",
       "      <th>dtype</th>\n",
       "    </tr>\n",
       "  </thead>\n",
       "  <tbody>\n",
       "    <tr>\n",
       "      <th>latest_query_time</th>\n",
       "      <td>4450</td>\n",
       "      <td>207</td>\n",
       "      <td>4/14/2018</td>\n",
       "      <td>423</td>\n",
       "      <td>304</td>\n",
       "      <td>0.0639462</td>\n",
       "      <td>object</td>\n",
       "    </tr>\n",
       "    <tr>\n",
       "      <th>loans_latest_time</th>\n",
       "      <td>4457</td>\n",
       "      <td>232</td>\n",
       "      <td>5/3/2018</td>\n",
       "      <td>134</td>\n",
       "      <td>297</td>\n",
       "      <td>0.0624737</td>\n",
       "      <td>object</td>\n",
       "    </tr>\n",
       "    <tr>\n",
       "      <th>reg_preference_for_trad</th>\n",
       "      <td>4752</td>\n",
       "      <td>5</td>\n",
       "      <td>一线城市</td>\n",
       "      <td>3403</td>\n",
       "      <td>2</td>\n",
       "      <td>0.000420698</td>\n",
       "      <td>object</td>\n",
       "    </tr>\n",
       "  </tbody>\n",
       "</table>\n",
       "</div>"
      ],
      "text/plain": [
       "                        count unique        top  freq null       miss_%  \\\n",
       "latest_query_time        4450    207  4/14/2018   423  304    0.0639462   \n",
       "loans_latest_time        4457    232   5/3/2018   134  297    0.0624737   \n",
       "reg_preference_for_trad  4752      5       一线城市  3403    2  0.000420698   \n",
       "\n",
       "                          dtype  \n",
       "latest_query_time        object  \n",
       "loans_latest_time        object  \n",
       "reg_preference_for_trad  object  "
      ]
     },
     "execution_count": 274,
     "metadata": {},
     "output_type": "execute_result"
    }
   ],
   "source": [
    "get_data_msg(data_obj).head()"
   ]
  },
  {
   "cell_type": "markdown",
   "metadata": {},
   "source": [
    "    - 日期型数据['latest_query_time','loans_latest_time']"
   ]
  },
  {
   "cell_type": "code",
   "execution_count": 275,
   "metadata": {},
   "outputs": [],
   "source": [
    "# 先填充众数\n",
    "data_obj[['latest_query_time','loans_latest_time']] = data_obj[['latest_query_time','loans_latest_time']]\\\n",
    "    .fillna(data_obj[['latest_query_time','loans_latest_time']].mode().iloc[0,:])"
   ]
  },
  {
   "cell_type": "code",
   "execution_count": 276,
   "metadata": {},
   "outputs": [],
   "source": [
    "# 再拆分，以免出现日期越界的情况\n",
    "data_date = pd.DataFrame()\n",
    "for col in ['latest_query_time','loans_latest_time']:\n",
    "    data_date['%s_year'%col] = pd.to_datetime(data_obj[col]).dt.year.astype('int32')\n",
    "    data_date['%s_month'%col] = pd.to_datetime(data_obj[col]).dt.month.astype('int32')\n",
    "    data_date['%s_day'%col] = pd.to_datetime(data_obj[col]).dt.day.astype('int32')"
   ]
  },
  {
   "cell_type": "markdown",
   "metadata": {},
   "source": [
    "    - reg_preference_for_trad特征"
   ]
  },
  {
   "cell_type": "code",
   "execution_count": 277,
   "metadata": {},
   "outputs": [],
   "source": [
    "# 与其他数据相比，这个特征只有两个缺失值，可以选择用众数填补\n",
    "data_obj['reg_preference_for_trad'].fillna(data_obj['reg_preference_for_trad'].describe()['top'], inplace=True)"
   ]
  },
  {
   "cell_type": "code",
   "execution_count": 278,
   "metadata": {},
   "outputs": [],
   "source": [
    "# one-hot编码\n",
    "data_loca = pd.get_dummies(data_obj['reg_preference_for_trad'])"
   ]
  },
  {
   "cell_type": "markdown",
   "metadata": {},
   "source": [
    "### 5、合并特征"
   ]
  },
  {
   "cell_type": "code",
   "execution_count": 279,
   "metadata": {},
   "outputs": [],
   "source": [
    "data_tra = pd.concat([data_num, data_date, data_loca], axis=1)"
   ]
  },
  {
   "cell_type": "markdown",
   "metadata": {},
   "source": [
    "### 6、数值型数据归一化"
   ]
  },
  {
   "cell_type": "code",
   "execution_count": 280,
   "metadata": {},
   "outputs": [],
   "source": [
    "from sklearn.preprocessing import StandardScaler\n",
    "scaler = StandardScaler()\n",
    "tra_cols = data_num.columns.tolist()\n",
    "tra_cols.remove('status') # 个人觉得不要把标签也归一化了\n",
    "data_tra[tra_cols] = scaler.fit_transform(data_tra[tra_cols])"
   ]
  },
  {
   "cell_type": "code",
   "execution_count": 281,
   "metadata": {},
   "outputs": [
    {
     "data": {
      "text/html": [
       "<div>\n",
       "<style scoped>\n",
       "    .dataframe tbody tr th:only-of-type {\n",
       "        vertical-align: middle;\n",
       "    }\n",
       "\n",
       "    .dataframe tbody tr th {\n",
       "        vertical-align: top;\n",
       "    }\n",
       "\n",
       "    .dataframe thead th {\n",
       "        text-align: right;\n",
       "    }\n",
       "</style>\n",
       "<table border=\"1\" class=\"dataframe\">\n",
       "  <thead>\n",
       "    <tr style=\"text-align: right;\">\n",
       "      <th></th>\n",
       "      <th>low_volume_percent</th>\n",
       "      <th>middle_volume_percent</th>\n",
       "      <th>take_amount_in_later_12_month_highest</th>\n",
       "      <th>trans_amount_increase_rate_lately</th>\n",
       "      <th>trans_activity_month</th>\n",
       "      <th>trans_activity_day</th>\n",
       "      <th>transd_mcc</th>\n",
       "      <th>trans_days_interval_filter</th>\n",
       "      <th>trans_days_interval</th>\n",
       "      <th>regional_mobility</th>\n",
       "      <th>...</th>\n",
       "      <th>latest_query_time_month</th>\n",
       "      <th>latest_query_time_day</th>\n",
       "      <th>loans_latest_time_year</th>\n",
       "      <th>loans_latest_time_month</th>\n",
       "      <th>loans_latest_time_day</th>\n",
       "      <th>一线城市</th>\n",
       "      <th>三线城市</th>\n",
       "      <th>二线城市</th>\n",
       "      <th>其他城市</th>\n",
       "      <th>境外</th>\n",
       "    </tr>\n",
       "  </thead>\n",
       "  <tbody>\n",
       "    <tr>\n",
       "      <th>0</th>\n",
       "      <td>-0.284251</td>\n",
       "      <td>0.612374</td>\n",
       "      <td>-0.494499</td>\n",
       "      <td>-0.019099</td>\n",
       "      <td>-1.292452</td>\n",
       "      <td>-0.308087</td>\n",
       "      <td>-0.112363</td>\n",
       "      <td>-0.088968</td>\n",
       "      <td>0.258090</td>\n",
       "      <td>0.360860</td>\n",
       "      <td>...</td>\n",
       "      <td>4</td>\n",
       "      <td>25</td>\n",
       "      <td>2018</td>\n",
       "      <td>4</td>\n",
       "      <td>19</td>\n",
       "      <td>1</td>\n",
       "      <td>0</td>\n",
       "      <td>0</td>\n",
       "      <td>0</td>\n",
       "      <td>0</td>\n",
       "    </tr>\n",
       "    <tr>\n",
       "      <th>1</th>\n",
       "      <td>-0.043372</td>\n",
       "      <td>0.267106</td>\n",
       "      <td>0.015242</td>\n",
       "      <td>-0.018551</td>\n",
       "      <td>0.993418</td>\n",
       "      <td>0.544138</td>\n",
       "      <td>0.334643</td>\n",
       "      <td>0.043178</td>\n",
       "      <td>-0.470508</td>\n",
       "      <td>1.484325</td>\n",
       "      <td>...</td>\n",
       "      <td>5</td>\n",
       "      <td>3</td>\n",
       "      <td>2018</td>\n",
       "      <td>5</td>\n",
       "      <td>5</td>\n",
       "      <td>1</td>\n",
       "      <td>0</td>\n",
       "      <td>0</td>\n",
       "      <td>0</td>\n",
       "      <td>0</td>\n",
       "    </tr>\n",
       "    <tr>\n",
       "      <th>2</th>\n",
       "      <td>0.438384</td>\n",
       "      <td>0.405213</td>\n",
       "      <td>-0.494499</td>\n",
       "      <td>-0.018955</td>\n",
       "      <td>0.993418</td>\n",
       "      <td>-1.477693</td>\n",
       "      <td>-1.006374</td>\n",
       "      <td>1.717020</td>\n",
       "      <td>0.015224</td>\n",
       "      <td>-1.886068</td>\n",
       "      <td>...</td>\n",
       "      <td>5</td>\n",
       "      <td>5</td>\n",
       "      <td>2018</td>\n",
       "      <td>5</td>\n",
       "      <td>1</td>\n",
       "      <td>1</td>\n",
       "      <td>0</td>\n",
       "      <td>0</td>\n",
       "      <td>0</td>\n",
       "      <td>0</td>\n",
       "    </tr>\n",
       "    <tr>\n",
       "      <th>3</th>\n",
       "      <td>-0.525129</td>\n",
       "      <td>0.405213</td>\n",
       "      <td>0.015242</td>\n",
       "      <td>-0.020208</td>\n",
       "      <td>-1.190857</td>\n",
       "      <td>2.419034</td>\n",
       "      <td>1.005152</td>\n",
       "      <td>-0.661598</td>\n",
       "      <td>-0.956239</td>\n",
       "      <td>0.360860</td>\n",
       "      <td>...</td>\n",
       "      <td>5</td>\n",
       "      <td>5</td>\n",
       "      <td>2018</td>\n",
       "      <td>5</td>\n",
       "      <td>3</td>\n",
       "      <td>0</td>\n",
       "      <td>1</td>\n",
       "      <td>0</td>\n",
       "      <td>0</td>\n",
       "      <td>0</td>\n",
       "    </tr>\n",
       "    <tr>\n",
       "      <th>4</th>\n",
       "      <td>-0.284251</td>\n",
       "      <td>0.612374</td>\n",
       "      <td>-0.494499</td>\n",
       "      <td>-0.019733</td>\n",
       "      <td>0.993418</td>\n",
       "      <td>-1.119171</td>\n",
       "      <td>-1.006374</td>\n",
       "      <td>1.628923</td>\n",
       "      <td>1.229553</td>\n",
       "      <td>-1.886068</td>\n",
       "      <td>...</td>\n",
       "      <td>4</td>\n",
       "      <td>15</td>\n",
       "      <td>2018</td>\n",
       "      <td>1</td>\n",
       "      <td>7</td>\n",
       "      <td>1</td>\n",
       "      <td>0</td>\n",
       "      <td>0</td>\n",
       "      <td>0</td>\n",
       "      <td>0</td>\n",
       "    </tr>\n",
       "  </tbody>\n",
       "</table>\n",
       "<p>5 rows × 91 columns</p>\n",
       "</div>"
      ],
      "text/plain": [
       "   low_volume_percent  middle_volume_percent  \\\n",
       "0           -0.284251               0.612374   \n",
       "1           -0.043372               0.267106   \n",
       "2            0.438384               0.405213   \n",
       "3           -0.525129               0.405213   \n",
       "4           -0.284251               0.612374   \n",
       "\n",
       "   take_amount_in_later_12_month_highest  trans_amount_increase_rate_lately  \\\n",
       "0                              -0.494499                          -0.019099   \n",
       "1                               0.015242                          -0.018551   \n",
       "2                              -0.494499                          -0.018955   \n",
       "3                               0.015242                          -0.020208   \n",
       "4                              -0.494499                          -0.019733   \n",
       "\n",
       "   trans_activity_month  trans_activity_day  transd_mcc  \\\n",
       "0             -1.292452           -0.308087   -0.112363   \n",
       "1              0.993418            0.544138    0.334643   \n",
       "2              0.993418           -1.477693   -1.006374   \n",
       "3             -1.190857            2.419034    1.005152   \n",
       "4              0.993418           -1.119171   -1.006374   \n",
       "\n",
       "   trans_days_interval_filter  trans_days_interval  regional_mobility  ...  \\\n",
       "0                   -0.088968             0.258090           0.360860  ...   \n",
       "1                    0.043178            -0.470508           1.484325  ...   \n",
       "2                    1.717020             0.015224          -1.886068  ...   \n",
       "3                   -0.661598            -0.956239           0.360860  ...   \n",
       "4                    1.628923             1.229553          -1.886068  ...   \n",
       "\n",
       "   latest_query_time_month  latest_query_time_day  loans_latest_time_year  \\\n",
       "0                        4                     25                    2018   \n",
       "1                        5                      3                    2018   \n",
       "2                        5                      5                    2018   \n",
       "3                        5                      5                    2018   \n",
       "4                        4                     15                    2018   \n",
       "\n",
       "   loans_latest_time_month  loans_latest_time_day  一线城市  三线城市  二线城市  其他城市  境外  \n",
       "0                        4                     19     1     0     0     0   0  \n",
       "1                        5                      5     1     0     0     0   0  \n",
       "2                        5                      1     1     0     0     0   0  \n",
       "3                        5                      3     0     1     0     0   0  \n",
       "4                        1                      7     1     0     0     0   0  \n",
       "\n",
       "[5 rows x 91 columns]"
      ]
     },
     "execution_count": 281,
     "metadata": {},
     "output_type": "execute_result"
    }
   ],
   "source": [
    "data_tra.head()"
   ]
  },
  {
   "cell_type": "markdown",
   "metadata": {},
   "source": [
    "### 7、数据EDA"
   ]
  },
  {
   "cell_type": "code",
   "execution_count": 322,
   "metadata": {},
   "outputs": [
    {
     "data": {
      "text/plain": [
       "<matplotlib.axes._subplots.AxesSubplot at 0x1362cba50>"
      ]
     },
     "execution_count": 322,
     "metadata": {},
     "output_type": "execute_result"
    },
    {
     "data": {
      "image/png": "[encoded data removed]",
      "text/plain": [
       "<Figure size 720x1440 with 1 Axes>"
      ]
     },
     "metadata": {
      "needs_background": "light"
     },
     "output_type": "display_data"
    }
   ],
   "source": [
    "# 90个特征也是够烦的。。\n",
    "# 先保存一下处理过后的数据\n",
    "# data_tra.to_csv('data_.csv')\n",
    "\n",
    "# 过滤了已经拆分的location\n",
    "data_eda = data_tra.iloc[:,:-5]\n",
    "status_corr = data_eda.corr()['status'].drop('status', axis=0)\n",
    "status_corr[status_corr>0].sort_values().plot.barh(figsize=(10,20), title='Positive correlation with status', alpha=0.7)"
   ]
  },
  {
   "cell_type": "code",
   "execution_count": null,
   "metadata": {},
   "outputs": [],
   "source": []
  }
 ],
 "metadata": {
  "kernelspec": {
   "display_name": "Python 2",
   "language": "python",
   "name": "python2"
  },
  "language_info": {
   "codemirror_mode": {
    "name": "ipython",
    "version": 2
   },
   "file_extension": ".py",
   "mimetype": "text/x-python",
   "name": "python",
   "nbconvert_exporter": "python",
   "pygments_lexer": "ipython2",
   "version": "2.7.15"
  },
  "toc-autonumbering": false,
  "toc-showcode": false,
  "toc-showmarkdowntxt": true,
  "toc-showtags": false
 },
 "nbformat": 4,
 "nbformat_minor": 2
}
