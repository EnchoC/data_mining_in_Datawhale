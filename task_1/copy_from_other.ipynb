{
 "cells": [
  {
   "cell_type": "code",
   "execution_count": 1,
   "metadata": {
    "ExecuteTime": {
     "end_time": "2019-03-02T14:42:32.656024Z",
     "start_time": "2019-03-02T14:42:31.753281Z"
    }
   },
   "outputs": [],
   "source": [
    "import pandas as pd\n",
    "import matplotlib.pyplot as plt\n",
    "import numpy as np\n",
    "import seaborn as sns\n",
    "import matplotlib as mpl\n",
    "import datetime\n",
    "import time\n",
    "from sklearn.ensemble import RandomForestRegressor\n",
    "import warnings"
   ]
  },
  {
   "cell_type": "code",
   "execution_count": 2,
   "metadata": {
    "ExecuteTime": {
     "end_time": "2019-03-02T14:42:32.661852Z",
     "start_time": "2019-03-02T14:42:32.657891Z"
    }
   },
   "outputs": [],
   "source": [
    "# 关闭 SettingWithCopyWarning \n",
    "pd.set_option('mode.chained_assignment', None)"
   ]
  },
  {
   "cell_type": "code",
   "execution_count": 3,
   "metadata": {
    "ExecuteTime": {
     "end_time": "2019-03-02T14:42:32.673819Z",
     "start_time": "2019-03-02T14:42:32.663846Z"
    }
   },
   "outputs": [],
   "source": [
    "mpl.rcParams['font.sans-serif'] = ['FangSong'] # 指定默认字体\n",
    "mpl.rcParams['axes.unicode_minus'] = False # 解决保存图像是负号'-'显示为方块的问题"
   ]
  },
  {
   "cell_type": "code",
   "execution_count": 4,
   "metadata": {
    "ExecuteTime": {
     "end_time": "2019-03-02T14:42:33.273378Z",
     "start_time": "2019-03-02T14:42:33.188444Z"
    }
   },
   "outputs": [],
   "source": [
    "df = pd.read_csv('data.csv', encoding='gbk')"
   ]
  },
  {
   "cell_type": "code",
   "execution_count": 5,
   "metadata": {
    "ExecuteTime": {
     "end_time": "2019-03-02T14:42:33.393931Z",
     "start_time": "2019-03-02T14:42:33.387944Z"
    }
   },
   "outputs": [
    {
     "data": {
      "text/plain": [
       "(4754, 90)"
      ]
     },
     "execution_count": 5,
     "metadata": {},
     "output_type": "execute_result"
    }
   ],
   "source": [
    "df.shape"
   ]
  },
  {
   "cell_type": "code",
   "execution_count": 6,
   "metadata": {
    "ExecuteTime": {
     "end_time": "2019-03-02T14:42:33.592430Z",
     "start_time": "2019-03-02T14:42:33.561482Z"
    }
   },
   "outputs": [
    {
     "data": {
      "text/html": [
       "<div>\n",
       "<style scoped>\n",
       "    .dataframe tbody tr th:only-of-type {\n",
       "        vertical-align: middle;\n",
       "    }\n",
       "\n",
       "    .dataframe tbody tr th {\n",
       "        vertical-align: top;\n",
       "    }\n",
       "\n",
       "    .dataframe thead th {\n",
       "        text-align: right;\n",
       "    }\n",
       "</style>\n",
       "<table border=\"1\" class=\"dataframe\">\n",
       "  <thead>\n",
       "    <tr style=\"text-align: right;\">\n",
       "      <th></th>\n",
       "      <th>Unnamed: 0</th>\n",
       "      <th>custid</th>\n",
       "      <th>trade_no</th>\n",
       "      <th>bank_card_no</th>\n",
       "      <th>low_volume_percent</th>\n",
       "      <th>middle_volume_percent</th>\n",
       "      <th>take_amount_in_later_12_month_highest</th>\n",
       "      <th>trans_amount_increase_rate_lately</th>\n",
       "      <th>trans_activity_month</th>\n",
       "      <th>trans_activity_day</th>\n",
       "      <th>...</th>\n",
       "      <th>loans_max_limit</th>\n",
       "      <th>loans_avg_limit</th>\n",
       "      <th>consfin_credit_limit</th>\n",
       "      <th>consfin_credibility</th>\n",
       "      <th>consfin_org_count_current</th>\n",
       "      <th>consfin_product_count</th>\n",
       "      <th>consfin_max_limit</th>\n",
       "      <th>consfin_avg_limit</th>\n",
       "      <th>latest_query_day</th>\n",
       "      <th>loans_latest_day</th>\n",
       "    </tr>\n",
       "  </thead>\n",
       "  <tbody>\n",
       "    <tr>\n",
       "      <th>0</th>\n",
       "      <td>5</td>\n",
       "      <td>2791858</td>\n",
       "      <td>20180507115231274000000023057383</td>\n",
       "      <td>卡号1</td>\n",
       "      <td>0.01</td>\n",
       "      <td>0.99</td>\n",
       "      <td>0</td>\n",
       "      <td>0.90</td>\n",
       "      <td>0.55</td>\n",
       "      <td>0.313</td>\n",
       "      <td>...</td>\n",
       "      <td>2900.0</td>\n",
       "      <td>1688.0</td>\n",
       "      <td>1200.0</td>\n",
       "      <td>75.0</td>\n",
       "      <td>1.0</td>\n",
       "      <td>2.0</td>\n",
       "      <td>1200.0</td>\n",
       "      <td>1200.0</td>\n",
       "      <td>12.0</td>\n",
       "      <td>18.0</td>\n",
       "    </tr>\n",
       "    <tr>\n",
       "      <th>1</th>\n",
       "      <td>10</td>\n",
       "      <td>534047</td>\n",
       "      <td>20180507121002192000000023073000</td>\n",
       "      <td>卡号1</td>\n",
       "      <td>0.02</td>\n",
       "      <td>0.94</td>\n",
       "      <td>2000</td>\n",
       "      <td>1.28</td>\n",
       "      <td>1.00</td>\n",
       "      <td>0.458</td>\n",
       "      <td>...</td>\n",
       "      <td>3500.0</td>\n",
       "      <td>1758.0</td>\n",
       "      <td>15100.0</td>\n",
       "      <td>80.0</td>\n",
       "      <td>5.0</td>\n",
       "      <td>6.0</td>\n",
       "      <td>22800.0</td>\n",
       "      <td>9360.0</td>\n",
       "      <td>4.0</td>\n",
       "      <td>2.0</td>\n",
       "    </tr>\n",
       "    <tr>\n",
       "      <th>2</th>\n",
       "      <td>12</td>\n",
       "      <td>2849787</td>\n",
       "      <td>20180507125159718000000023114911</td>\n",
       "      <td>卡号1</td>\n",
       "      <td>0.04</td>\n",
       "      <td>0.96</td>\n",
       "      <td>0</td>\n",
       "      <td>1.00</td>\n",
       "      <td>1.00</td>\n",
       "      <td>0.114</td>\n",
       "      <td>...</td>\n",
       "      <td>1600.0</td>\n",
       "      <td>1250.0</td>\n",
       "      <td>4200.0</td>\n",
       "      <td>87.0</td>\n",
       "      <td>1.0</td>\n",
       "      <td>1.0</td>\n",
       "      <td>4200.0</td>\n",
       "      <td>4200.0</td>\n",
       "      <td>2.0</td>\n",
       "      <td>6.0</td>\n",
       "    </tr>\n",
       "    <tr>\n",
       "      <th>3</th>\n",
       "      <td>13</td>\n",
       "      <td>1809708</td>\n",
       "      <td>20180507121358683000000388283484</td>\n",
       "      <td>卡号1</td>\n",
       "      <td>0.00</td>\n",
       "      <td>0.96</td>\n",
       "      <td>2000</td>\n",
       "      <td>0.13</td>\n",
       "      <td>0.57</td>\n",
       "      <td>0.777</td>\n",
       "      <td>...</td>\n",
       "      <td>3200.0</td>\n",
       "      <td>1541.0</td>\n",
       "      <td>16300.0</td>\n",
       "      <td>80.0</td>\n",
       "      <td>5.0</td>\n",
       "      <td>5.0</td>\n",
       "      <td>30000.0</td>\n",
       "      <td>12180.0</td>\n",
       "      <td>2.0</td>\n",
       "      <td>4.0</td>\n",
       "    </tr>\n",
       "    <tr>\n",
       "      <th>4</th>\n",
       "      <td>14</td>\n",
       "      <td>2499829</td>\n",
       "      <td>20180507115448545000000388205844</td>\n",
       "      <td>卡号1</td>\n",
       "      <td>0.01</td>\n",
       "      <td>0.99</td>\n",
       "      <td>0</td>\n",
       "      <td>0.46</td>\n",
       "      <td>1.00</td>\n",
       "      <td>0.175</td>\n",
       "      <td>...</td>\n",
       "      <td>2300.0</td>\n",
       "      <td>1630.0</td>\n",
       "      <td>8300.0</td>\n",
       "      <td>79.0</td>\n",
       "      <td>2.0</td>\n",
       "      <td>2.0</td>\n",
       "      <td>8400.0</td>\n",
       "      <td>8250.0</td>\n",
       "      <td>22.0</td>\n",
       "      <td>120.0</td>\n",
       "    </tr>\n",
       "  </tbody>\n",
       "</table>\n",
       "<p>5 rows × 90 columns</p>\n",
       "</div>"
      ],
      "text/plain": [
       "   Unnamed: 0   custid                          trade_no bank_card_no  \\\n",
       "0           5  2791858  20180507115231274000000023057383          卡号1   \n",
       "1          10   534047  20180507121002192000000023073000          卡号1   \n",
       "2          12  2849787  20180507125159718000000023114911          卡号1   \n",
       "3          13  1809708  20180507121358683000000388283484          卡号1   \n",
       "4          14  2499829  20180507115448545000000388205844          卡号1   \n",
       "\n",
       "   low_volume_percent  middle_volume_percent  \\\n",
       "0                0.01                   0.99   \n",
       "1                0.02                   0.94   \n",
       "2                0.04                   0.96   \n",
       "3                0.00                   0.96   \n",
       "4                0.01                   0.99   \n",
       "\n",
       "   take_amount_in_later_12_month_highest  trans_amount_increase_rate_lately  \\\n",
       "0                                      0                               0.90   \n",
       "1                                   2000                               1.28   \n",
       "2                                      0                               1.00   \n",
       "3                                   2000                               0.13   \n",
       "4                                      0                               0.46   \n",
       "\n",
       "   trans_activity_month  trans_activity_day        ...         \\\n",
       "0                  0.55               0.313        ...          \n",
       "1                  1.00               0.458        ...          \n",
       "2                  1.00               0.114        ...          \n",
       "3                  0.57               0.777        ...          \n",
       "4                  1.00               0.175        ...          \n",
       "\n",
       "   loans_max_limit  loans_avg_limit  consfin_credit_limit  \\\n",
       "0           2900.0           1688.0                1200.0   \n",
       "1           3500.0           1758.0               15100.0   \n",
       "2           1600.0           1250.0                4200.0   \n",
       "3           3200.0           1541.0               16300.0   \n",
       "4           2300.0           1630.0                8300.0   \n",
       "\n",
       "   consfin_credibility  consfin_org_count_current  consfin_product_count  \\\n",
       "0                 75.0                        1.0                    2.0   \n",
       "1                 80.0                        5.0                    6.0   \n",
       "2                 87.0                        1.0                    1.0   \n",
       "3                 80.0                        5.0                    5.0   \n",
       "4                 79.0                        2.0                    2.0   \n",
       "\n",
       "   consfin_max_limit  consfin_avg_limit  latest_query_day  loans_latest_day  \n",
       "0             1200.0             1200.0              12.0              18.0  \n",
       "1            22800.0             9360.0               4.0               2.0  \n",
       "2             4200.0             4200.0               2.0               6.0  \n",
       "3            30000.0            12180.0               2.0               4.0  \n",
       "4             8400.0             8250.0              22.0             120.0  \n",
       "\n",
       "[5 rows x 90 columns]"
      ]
     },
     "execution_count": 6,
     "metadata": {},
     "output_type": "execute_result"
    }
   ],
   "source": [
    "df.head()"
   ]
  },
  {
   "cell_type": "markdown",
   "metadata": {},
   "source": [
    "# 数据类型分析"
   ]
  },
  {
   "cell_type": "code",
   "execution_count": 7,
   "metadata": {
    "ExecuteTime": {
     "end_time": "2019-03-02T14:42:34.204428Z",
     "start_time": "2019-03-02T14:42:34.173542Z"
    }
   },
   "outputs": [
    {
     "name": "stdout",
     "output_type": "stream",
     "text": [
      "<class 'pandas.core.frame.DataFrame'>\n",
      "RangeIndex: 4754 entries, 0 to 4753\n",
      "Data columns (total 90 columns):\n",
      "Unnamed: 0                                    4754 non-null int64\n",
      "custid                                        4754 non-null int64\n",
      "trade_no                                      4754 non-null object\n",
      "bank_card_no                                  4754 non-null object\n",
      "low_volume_percent                            4752 non-null float64\n",
      "middle_volume_percent                         4752 non-null float64\n",
      "take_amount_in_later_12_month_highest         4754 non-null int64\n",
      "trans_amount_increase_rate_lately             4751 non-null float64\n",
      "trans_activity_month                          4752 non-null float64\n",
      "trans_activity_day                            4752 non-null float64\n",
      "transd_mcc                                    4752 non-null float64\n",
      "trans_days_interval_filter                    4746 non-null float64\n",
      "trans_days_interval                           4752 non-null float64\n",
      "regional_mobility                             4752 non-null float64\n",
      "student_feature                               1756 non-null float64\n",
      "repayment_capability                          4754 non-null int64\n",
      "is_high_user                                  4754 non-null int64\n",
      "number_of_trans_from_2011                     4752 non-null float64\n",
      "first_transaction_time                        4752 non-null float64\n",
      "historical_trans_amount                       4754 non-null int64\n",
      "historical_trans_day                          4752 non-null float64\n",
      "rank_trad_1_month                             4752 non-null float64\n",
      "trans_amount_3_month                          4754 non-null int64\n",
      "avg_consume_less_12_valid_month               4752 non-null float64\n",
      "abs                                           4754 non-null int64\n",
      "top_trans_count_last_1_month                  4752 non-null float64\n",
      "avg_price_last_12_month                       4754 non-null int64\n",
      "avg_price_top_last_12_valid_month             4650 non-null float64\n",
      "reg_preference_for_trad                       4752 non-null object\n",
      "trans_top_time_last_1_month                   4746 non-null float64\n",
      "trans_top_time_last_6_month                   4746 non-null float64\n",
      "consume_top_time_last_1_month                 4746 non-null float64\n",
      "consume_top_time_last_6_month                 4746 non-null float64\n",
      "cross_consume_count_last_1_month              4328 non-null float64\n",
      "trans_fail_top_count_enum_last_1_month        4738 non-null float64\n",
      "trans_fail_top_count_enum_last_6_month        4738 non-null float64\n",
      "trans_fail_top_count_enum_last_12_month       4738 non-null float64\n",
      "consume_mini_time_last_1_month                4728 non-null float64\n",
      "max_cumulative_consume_later_1_month          4754 non-null int64\n",
      "max_consume_count_later_6_month               4746 non-null float64\n",
      "railway_consume_count_last_12_month           4742 non-null float64\n",
      "pawns_auctions_trusts_consume_last_1_month    4754 non-null int64\n",
      "pawns_auctions_trusts_consume_last_6_month    4754 non-null int64\n",
      "jewelry_consume_count_last_6_month            4742 non-null float64\n",
      "status                                        4754 non-null int64\n",
      "source                                        4754 non-null object\n",
      "first_transaction_day                         4752 non-null float64\n",
      "trans_day_last_12_month                       4752 non-null float64\n",
      "id_name                                       4478 non-null object\n",
      "apply_score                                   4450 non-null float64\n",
      "apply_credibility                             4450 non-null float64\n",
      "query_org_count                               4450 non-null float64\n",
      "query_finance_count                           4450 non-null float64\n",
      "query_cash_count                              4450 non-null float64\n",
      "query_sum_count                               4450 non-null float64\n",
      "latest_query_time                             4450 non-null object\n",
      "latest_one_month_apply                        4450 non-null float64\n",
      "latest_three_month_apply                      4450 non-null float64\n",
      "latest_six_month_apply                        4450 non-null float64\n",
      "loans_score                                   4457 non-null float64\n",
      "loans_credibility_behavior                    4457 non-null float64\n",
      "loans_count                                   4457 non-null float64\n",
      "loans_settle_count                            4457 non-null float64\n",
      "loans_overdue_count                           4457 non-null float64\n",
      "loans_org_count_behavior                      4457 non-null float64\n",
      "consfin_org_count_behavior                    4457 non-null float64\n",
      "loans_cash_count                              4457 non-null float64\n",
      "latest_one_month_loan                         4457 non-null float64\n",
      "latest_three_month_loan                       4457 non-null float64\n",
      "latest_six_month_loan                         4457 non-null float64\n",
      "history_suc_fee                               4457 non-null float64\n",
      "history_fail_fee                              4457 non-null float64\n",
      "latest_one_month_suc                          4457 non-null float64\n",
      "latest_one_month_fail                         4457 non-null float64\n",
      "loans_long_time                               4457 non-null float64\n",
      "loans_latest_time                             4457 non-null object\n",
      "loans_credit_limit                            4457 non-null float64\n",
      "loans_credibility_limit                       4457 non-null float64\n",
      "loans_org_count_current                       4457 non-null float64\n",
      "loans_product_count                           4457 non-null float64\n",
      "loans_max_limit                               4457 non-null float64\n",
      "loans_avg_limit                               4457 non-null float64\n",
      "consfin_credit_limit                          4457 non-null float64\n",
      "consfin_credibility                           4457 non-null float64\n",
      "consfin_org_count_current                     4457 non-null float64\n",
      "consfin_product_count                         4457 non-null float64\n",
      "consfin_max_limit                             4457 non-null float64\n",
      "consfin_avg_limit                             4457 non-null float64\n",
      "latest_query_day                              4450 non-null float64\n",
      "loans_latest_day                              4457 non-null float64\n",
      "dtypes: float64(70), int64(13), object(7)\n",
      "memory usage: 3.3+ MB\n"
     ]
    }
   ],
   "source": [
    "df.info()"
   ]
  },
  {
   "cell_type": "markdown",
   "metadata": {},
   "source": [
    "原数据中数值型特征有 83 个，字符串类型特征有 7 个，多数特征缺失值不是特别多，student_feature 缺失值较多。"
   ]
  },
  {
   "cell_type": "code",
   "execution_count": 8,
   "metadata": {
    "ExecuteTime": {
     "end_time": "2019-03-02T14:42:34.534546Z",
     "start_time": "2019-03-02T14:42:34.275238Z"
    }
   },
   "outputs": [
    {
     "data": {
      "text/html": [
       "<div>\n",
       "<style scoped>\n",
       "    .dataframe tbody tr th:only-of-type {\n",
       "        vertical-align: middle;\n",
       "    }\n",
       "\n",
       "    .dataframe tbody tr th {\n",
       "        vertical-align: top;\n",
       "    }\n",
       "\n",
       "    .dataframe thead th {\n",
       "        text-align: right;\n",
       "    }\n",
       "</style>\n",
       "<table border=\"1\" class=\"dataframe\">\n",
       "  <thead>\n",
       "    <tr style=\"text-align: right;\">\n",
       "      <th></th>\n",
       "      <th>Unnamed: 0</th>\n",
       "      <th>custid</th>\n",
       "      <th>low_volume_percent</th>\n",
       "      <th>middle_volume_percent</th>\n",
       "      <th>take_amount_in_later_12_month_highest</th>\n",
       "      <th>trans_amount_increase_rate_lately</th>\n",
       "      <th>trans_activity_month</th>\n",
       "      <th>trans_activity_day</th>\n",
       "      <th>transd_mcc</th>\n",
       "      <th>trans_days_interval_filter</th>\n",
       "      <th>...</th>\n",
       "      <th>loans_max_limit</th>\n",
       "      <th>loans_avg_limit</th>\n",
       "      <th>consfin_credit_limit</th>\n",
       "      <th>consfin_credibility</th>\n",
       "      <th>consfin_org_count_current</th>\n",
       "      <th>consfin_product_count</th>\n",
       "      <th>consfin_max_limit</th>\n",
       "      <th>consfin_avg_limit</th>\n",
       "      <th>latest_query_day</th>\n",
       "      <th>loans_latest_day</th>\n",
       "    </tr>\n",
       "  </thead>\n",
       "  <tbody>\n",
       "    <tr>\n",
       "      <th>count</th>\n",
       "      <td>4754.000000</td>\n",
       "      <td>4.754000e+03</td>\n",
       "      <td>4752.000000</td>\n",
       "      <td>4752.000000</td>\n",
       "      <td>4754.000000</td>\n",
       "      <td>4751.000000</td>\n",
       "      <td>4752.000000</td>\n",
       "      <td>4752.000000</td>\n",
       "      <td>4752.000000</td>\n",
       "      <td>4746.000000</td>\n",
       "      <td>...</td>\n",
       "      <td>4457.000000</td>\n",
       "      <td>4457.000000</td>\n",
       "      <td>4457.000000</td>\n",
       "      <td>4457.000000</td>\n",
       "      <td>4457.000000</td>\n",
       "      <td>4457.000000</td>\n",
       "      <td>4457.000000</td>\n",
       "      <td>4457.000000</td>\n",
       "      <td>4450.000000</td>\n",
       "      <td>4457.000000</td>\n",
       "    </tr>\n",
       "    <tr>\n",
       "      <th>mean</th>\n",
       "      <td>6008.414178</td>\n",
       "      <td>1.690993e+06</td>\n",
       "      <td>0.021806</td>\n",
       "      <td>0.901294</td>\n",
       "      <td>1940.197728</td>\n",
       "      <td>14.160674</td>\n",
       "      <td>0.804411</td>\n",
       "      <td>0.365425</td>\n",
       "      <td>17.502946</td>\n",
       "      <td>29.029920</td>\n",
       "      <td>...</td>\n",
       "      <td>3390.038142</td>\n",
       "      <td>1820.357864</td>\n",
       "      <td>9187.009199</td>\n",
       "      <td>76.042630</td>\n",
       "      <td>4.732331</td>\n",
       "      <td>5.227507</td>\n",
       "      <td>16153.690823</td>\n",
       "      <td>8007.696881</td>\n",
       "      <td>24.112809</td>\n",
       "      <td>55.181512</td>\n",
       "    </tr>\n",
       "    <tr>\n",
       "      <th>std</th>\n",
       "      <td>3452.071428</td>\n",
       "      <td>1.034235e+06</td>\n",
       "      <td>0.041527</td>\n",
       "      <td>0.144856</td>\n",
       "      <td>3923.971494</td>\n",
       "      <td>694.180473</td>\n",
       "      <td>0.196920</td>\n",
       "      <td>0.170196</td>\n",
       "      <td>4.475616</td>\n",
       "      <td>22.722432</td>\n",
       "      <td>...</td>\n",
       "      <td>1474.206546</td>\n",
       "      <td>583.418291</td>\n",
       "      <td>7371.257043</td>\n",
       "      <td>14.536819</td>\n",
       "      <td>2.974596</td>\n",
       "      <td>3.409292</td>\n",
       "      <td>14301.037628</td>\n",
       "      <td>5679.418585</td>\n",
       "      <td>37.725724</td>\n",
       "      <td>53.486408</td>\n",
       "    </tr>\n",
       "    <tr>\n",
       "      <th>min</th>\n",
       "      <td>5.000000</td>\n",
       "      <td>1.140000e+02</td>\n",
       "      <td>0.000000</td>\n",
       "      <td>0.000000</td>\n",
       "      <td>0.000000</td>\n",
       "      <td>0.000000</td>\n",
       "      <td>0.120000</td>\n",
       "      <td>0.033000</td>\n",
       "      <td>2.000000</td>\n",
       "      <td>0.000000</td>\n",
       "      <td>...</td>\n",
       "      <td>0.000000</td>\n",
       "      <td>0.000000</td>\n",
       "      <td>0.000000</td>\n",
       "      <td>0.000000</td>\n",
       "      <td>0.000000</td>\n",
       "      <td>0.000000</td>\n",
       "      <td>0.000000</td>\n",
       "      <td>0.000000</td>\n",
       "      <td>-2.000000</td>\n",
       "      <td>-2.000000</td>\n",
       "    </tr>\n",
       "    <tr>\n",
       "      <th>25%</th>\n",
       "      <td>3106.000000</td>\n",
       "      <td>7.593358e+05</td>\n",
       "      <td>0.010000</td>\n",
       "      <td>0.880000</td>\n",
       "      <td>0.000000</td>\n",
       "      <td>0.615000</td>\n",
       "      <td>0.670000</td>\n",
       "      <td>0.233000</td>\n",
       "      <td>15.000000</td>\n",
       "      <td>16.000000</td>\n",
       "      <td>...</td>\n",
       "      <td>2300.000000</td>\n",
       "      <td>1535.000000</td>\n",
       "      <td>4800.000000</td>\n",
       "      <td>77.000000</td>\n",
       "      <td>2.000000</td>\n",
       "      <td>3.000000</td>\n",
       "      <td>7800.000000</td>\n",
       "      <td>4737.000000</td>\n",
       "      <td>5.000000</td>\n",
       "      <td>10.000000</td>\n",
       "    </tr>\n",
       "    <tr>\n",
       "      <th>50%</th>\n",
       "      <td>6006.500000</td>\n",
       "      <td>1.634942e+06</td>\n",
       "      <td>0.010000</td>\n",
       "      <td>0.960000</td>\n",
       "      <td>500.000000</td>\n",
       "      <td>0.970000</td>\n",
       "      <td>0.860000</td>\n",
       "      <td>0.350000</td>\n",
       "      <td>17.000000</td>\n",
       "      <td>23.000000</td>\n",
       "      <td>...</td>\n",
       "      <td>3100.000000</td>\n",
       "      <td>1810.000000</td>\n",
       "      <td>7700.000000</td>\n",
       "      <td>79.000000</td>\n",
       "      <td>4.000000</td>\n",
       "      <td>5.000000</td>\n",
       "      <td>13800.000000</td>\n",
       "      <td>7050.000000</td>\n",
       "      <td>14.000000</td>\n",
       "      <td>36.000000</td>\n",
       "    </tr>\n",
       "    <tr>\n",
       "      <th>75%</th>\n",
       "      <td>8999.000000</td>\n",
       "      <td>2.597905e+06</td>\n",
       "      <td>0.020000</td>\n",
       "      <td>0.990000</td>\n",
       "      <td>2000.000000</td>\n",
       "      <td>1.600000</td>\n",
       "      <td>1.000000</td>\n",
       "      <td>0.480000</td>\n",
       "      <td>20.000000</td>\n",
       "      <td>32.000000</td>\n",
       "      <td>...</td>\n",
       "      <td>4300.000000</td>\n",
       "      <td>2100.000000</td>\n",
       "      <td>11700.000000</td>\n",
       "      <td>80.000000</td>\n",
       "      <td>7.000000</td>\n",
       "      <td>7.000000</td>\n",
       "      <td>20400.000000</td>\n",
       "      <td>10000.000000</td>\n",
       "      <td>24.000000</td>\n",
       "      <td>91.000000</td>\n",
       "    </tr>\n",
       "    <tr>\n",
       "      <th>max</th>\n",
       "      <td>11992.000000</td>\n",
       "      <td>4.004694e+06</td>\n",
       "      <td>1.000000</td>\n",
       "      <td>1.000000</td>\n",
       "      <td>68000.000000</td>\n",
       "      <td>47596.740000</td>\n",
       "      <td>1.000000</td>\n",
       "      <td>0.941000</td>\n",
       "      <td>42.000000</td>\n",
       "      <td>285.000000</td>\n",
       "      <td>...</td>\n",
       "      <td>10000.000000</td>\n",
       "      <td>6900.000000</td>\n",
       "      <td>87100.000000</td>\n",
       "      <td>87.000000</td>\n",
       "      <td>18.000000</td>\n",
       "      <td>20.000000</td>\n",
       "      <td>266400.000000</td>\n",
       "      <td>82800.000000</td>\n",
       "      <td>360.000000</td>\n",
       "      <td>323.000000</td>\n",
       "    </tr>\n",
       "  </tbody>\n",
       "</table>\n",
       "<p>8 rows × 83 columns</p>\n",
       "</div>"
      ],
      "text/plain": [
       "         Unnamed: 0        custid  low_volume_percent  middle_volume_percent  \\\n",
       "count   4754.000000  4.754000e+03         4752.000000            4752.000000   \n",
       "mean    6008.414178  1.690993e+06            0.021806               0.901294   \n",
       "std     3452.071428  1.034235e+06            0.041527               0.144856   \n",
       "min        5.000000  1.140000e+02            0.000000               0.000000   \n",
       "25%     3106.000000  7.593358e+05            0.010000               0.880000   \n",
       "50%     6006.500000  1.634942e+06            0.010000               0.960000   \n",
       "75%     8999.000000  2.597905e+06            0.020000               0.990000   \n",
       "max    11992.000000  4.004694e+06            1.000000               1.000000   \n",
       "\n",
       "       take_amount_in_later_12_month_highest  \\\n",
       "count                            4754.000000   \n",
       "mean                             1940.197728   \n",
       "std                              3923.971494   \n",
       "min                                 0.000000   \n",
       "25%                                 0.000000   \n",
       "50%                               500.000000   \n",
       "75%                              2000.000000   \n",
       "max                             68000.000000   \n",
       "\n",
       "       trans_amount_increase_rate_lately  trans_activity_month  \\\n",
       "count                        4751.000000           4752.000000   \n",
       "mean                           14.160674              0.804411   \n",
       "std                           694.180473              0.196920   \n",
       "min                             0.000000              0.120000   \n",
       "25%                             0.615000              0.670000   \n",
       "50%                             0.970000              0.860000   \n",
       "75%                             1.600000              1.000000   \n",
       "max                         47596.740000              1.000000   \n",
       "\n",
       "       trans_activity_day   transd_mcc  trans_days_interval_filter  \\\n",
       "count         4752.000000  4752.000000                 4746.000000   \n",
       "mean             0.365425    17.502946                   29.029920   \n",
       "std              0.170196     4.475616                   22.722432   \n",
       "min              0.033000     2.000000                    0.000000   \n",
       "25%              0.233000    15.000000                   16.000000   \n",
       "50%              0.350000    17.000000                   23.000000   \n",
       "75%              0.480000    20.000000                   32.000000   \n",
       "max              0.941000    42.000000                  285.000000   \n",
       "\n",
       "             ...         loans_max_limit  loans_avg_limit  \\\n",
       "count        ...             4457.000000      4457.000000   \n",
       "mean         ...             3390.038142      1820.357864   \n",
       "std          ...             1474.206546       583.418291   \n",
       "min          ...                0.000000         0.000000   \n",
       "25%          ...             2300.000000      1535.000000   \n",
       "50%          ...             3100.000000      1810.000000   \n",
       "75%          ...             4300.000000      2100.000000   \n",
       "max          ...            10000.000000      6900.000000   \n",
       "\n",
       "       consfin_credit_limit  consfin_credibility  consfin_org_count_current  \\\n",
       "count           4457.000000          4457.000000                4457.000000   \n",
       "mean            9187.009199            76.042630                   4.732331   \n",
       "std             7371.257043            14.536819                   2.974596   \n",
       "min                0.000000             0.000000                   0.000000   \n",
       "25%             4800.000000            77.000000                   2.000000   \n",
       "50%             7700.000000            79.000000                   4.000000   \n",
       "75%            11700.000000            80.000000                   7.000000   \n",
       "max            87100.000000            87.000000                  18.000000   \n",
       "\n",
       "       consfin_product_count  consfin_max_limit  consfin_avg_limit  \\\n",
       "count            4457.000000        4457.000000        4457.000000   \n",
       "mean                5.227507       16153.690823        8007.696881   \n",
       "std                 3.409292       14301.037628        5679.418585   \n",
       "min                 0.000000           0.000000           0.000000   \n",
       "25%                 3.000000        7800.000000        4737.000000   \n",
       "50%                 5.000000       13800.000000        7050.000000   \n",
       "75%                 7.000000       20400.000000       10000.000000   \n",
       "max                20.000000      266400.000000       82800.000000   \n",
       "\n",
       "       latest_query_day  loans_latest_day  \n",
       "count       4450.000000       4457.000000  \n",
       "mean          24.112809         55.181512  \n",
       "std           37.725724         53.486408  \n",
       "min           -2.000000         -2.000000  \n",
       "25%            5.000000         10.000000  \n",
       "50%           14.000000         36.000000  \n",
       "75%           24.000000         91.000000  \n",
       "max          360.000000        323.000000  \n",
       "\n",
       "[8 rows x 83 columns]"
      ]
     },
     "execution_count": 8,
     "metadata": {},
     "output_type": "execute_result"
    }
   ],
   "source": [
    "df.describe()"
   ]
  },
  {
   "cell_type": "code",
   "execution_count": 9,
   "metadata": {
    "ExecuteTime": {
     "end_time": "2019-03-02T14:42:34.594413Z",
     "start_time": "2019-03-02T14:42:34.536540Z"
    }
   },
   "outputs": [
    {
     "data": {
      "text/html": [
       "<div>\n",
       "<style scoped>\n",
       "    .dataframe tbody tr th:only-of-type {\n",
       "        vertical-align: middle;\n",
       "    }\n",
       "\n",
       "    .dataframe tbody tr th {\n",
       "        vertical-align: top;\n",
       "    }\n",
       "\n",
       "    .dataframe thead th {\n",
       "        text-align: right;\n",
       "    }\n",
       "</style>\n",
       "<table border=\"1\" class=\"dataframe\">\n",
       "  <thead>\n",
       "    <tr style=\"text-align: right;\">\n",
       "      <th></th>\n",
       "      <th>trade_no</th>\n",
       "      <th>bank_card_no</th>\n",
       "      <th>reg_preference_for_trad</th>\n",
       "      <th>source</th>\n",
       "      <th>id_name</th>\n",
       "      <th>latest_query_time</th>\n",
       "      <th>loans_latest_time</th>\n",
       "    </tr>\n",
       "  </thead>\n",
       "  <tbody>\n",
       "    <tr>\n",
       "      <th>count</th>\n",
       "      <td>4754</td>\n",
       "      <td>4754</td>\n",
       "      <td>4752</td>\n",
       "      <td>4754</td>\n",
       "      <td>4478</td>\n",
       "      <td>4450</td>\n",
       "      <td>4457</td>\n",
       "    </tr>\n",
       "    <tr>\n",
       "      <th>unique</th>\n",
       "      <td>4754</td>\n",
       "      <td>1</td>\n",
       "      <td>5</td>\n",
       "      <td>1</td>\n",
       "      <td>4309</td>\n",
       "      <td>207</td>\n",
       "      <td>232</td>\n",
       "    </tr>\n",
       "    <tr>\n",
       "      <th>top</th>\n",
       "      <td>20180507120324257000000388237977</td>\n",
       "      <td>卡号1</td>\n",
       "      <td>一线城市</td>\n",
       "      <td>xs</td>\n",
       "      <td>李明</td>\n",
       "      <td>2018-04-14</td>\n",
       "      <td>2018-05-03</td>\n",
       "    </tr>\n",
       "    <tr>\n",
       "      <th>freq</th>\n",
       "      <td>1</td>\n",
       "      <td>4754</td>\n",
       "      <td>3403</td>\n",
       "      <td>4754</td>\n",
       "      <td>5</td>\n",
       "      <td>423</td>\n",
       "      <td>134</td>\n",
       "    </tr>\n",
       "  </tbody>\n",
       "</table>\n",
       "</div>"
      ],
      "text/plain": [
       "                                trade_no bank_card_no reg_preference_for_trad  \\\n",
       "count                               4754         4754                    4752   \n",
       "unique                              4754            1                       5   \n",
       "top     20180507120324257000000388237977          卡号1                    一线城市   \n",
       "freq                                   1         4754                    3403   \n",
       "\n",
       "       source id_name latest_query_time loans_latest_time  \n",
       "count    4754    4478              4450              4457  \n",
       "unique      1    4309               207               232  \n",
       "top        xs      李明        2018-04-14        2018-05-03  \n",
       "freq     4754       5               423               134  "
      ]
     },
     "execution_count": 9,
     "metadata": {},
     "output_type": "execute_result"
    }
   ],
   "source": [
    "df.describe(include='O')"
   ]
  },
  {
   "cell_type": "code",
   "execution_count": 10,
   "metadata": {
    "ExecuteTime": {
     "end_time": "2019-03-02T14:42:34.742987Z",
     "start_time": "2019-03-02T14:42:34.597375Z"
    }
   },
   "outputs": [
    {
     "data": {
      "text/plain": [
       "<matplotlib.axes._subplots.AxesSubplot at 0x115f39780>"
      ]
     },
     "execution_count": 10,
     "metadata": {},
     "output_type": "execute_result"
    },
    {
     "name": "stderr",
     "output_type": "stream",
     "text": [
      "/usr/local/lib/python3.7/site-packages/matplotlib/font_manager.py:1241: UserWarning: findfont: Font family ['sans-serif'] not found. Falling back to DejaVu Sans.\n",
      "  (prop.get_family(), self.defaultFamily[fontext]))\n"
     ]
    },
    {
     "data": {
      "image/png": "[encoded data removed]",
      "text/plain": [
       "<Figure size 432x288 with 1 Axes>"
      ]
     },
     "metadata": {
      "needs_background": "light"
     },
     "output_type": "display_data"
    }
   ],
   "source": [
    "sns.countplot(df['status'])"
   ]
  },
  {
   "cell_type": "markdown",
   "metadata": {},
   "source": [
    "# 无关特征删除"
   ]
  },
  {
   "cell_type": "markdown",
   "metadata": {},
   "source": [
    "## 类别特征"
   ]
  },
  {
   "cell_type": "markdown",
   "metadata": {},
   "source": [
    "### bank_card_no 和 source"
   ]
  },
  {
   "cell_type": "markdown",
   "metadata": {},
   "source": [
    "bank_card_no 和 source unique 等于 1，删除"
   ]
  },
  {
   "cell_type": "code",
   "execution_count": 11,
   "metadata": {
    "ExecuteTime": {
     "end_time": "2019-03-02T14:42:34.751964Z",
     "start_time": "2019-03-02T14:42:34.744983Z"
    }
   },
   "outputs": [],
   "source": [
    "df.drop(['bank_card_no', 'source'], axis=1, inplace=True)"
   ]
  },
  {
   "cell_type": "markdown",
   "metadata": {},
   "source": [
    "### trade_no"
   ]
  },
  {
   "cell_type": "code",
   "execution_count": 12,
   "metadata": {
    "ExecuteTime": {
     "end_time": "2019-03-02T14:42:34.869647Z",
     "start_time": "2019-03-02T14:42:34.860672Z"
    }
   },
   "outputs": [
    {
     "data": {
      "text/plain": [
       "0    20180507115231274000000023057383\n",
       "1    20180507121002192000000023073000\n",
       "2    20180507125159718000000023114911\n",
       "3    20180507121358683000000388283484\n",
       "4    20180507115448545000000388205844\n",
       "5    20180507121233054000000388275132\n",
       "6    20180507121931540000000388298915\n",
       "7    20180507124659235000000023105807\n",
       "8    20180507115855621000000388224458\n",
       "9    20180504155156296000000021138084\n",
       "Name: trade_no, dtype: object"
      ]
     },
     "execution_count": 12,
     "metadata": {},
     "output_type": "execute_result"
    }
   ],
   "source": [
    "df['trade_no'].head(10)"
   ]
  },
  {
   "cell_type": "code",
   "execution_count": 13,
   "metadata": {
    "ExecuteTime": {
     "end_time": "2019-03-02T14:42:34.955418Z",
     "start_time": "2019-03-02T14:42:34.947447Z"
    }
   },
   "outputs": [
    {
     "data": {
      "text/plain": [
       "4744    20180507115029481000000388194850\n",
       "4745    20180507123619864000000388369012\n",
       "4746    20180507125012243000000023109396\n",
       "4747    20180507123811494000000388377504\n",
       "4748    20180507121025853000000388266701\n",
       "4749    20180507120519228000000388247328\n",
       "4750    20180507114937914000000388192877\n",
       "4751    20180507121340509000000388278785\n",
       "4752    20180504161827128000000381357758\n",
       "4753    20180507124243041000000388391027\n",
       "Name: trade_no, dtype: object"
      ]
     },
     "execution_count": 13,
     "metadata": {},
     "output_type": "execute_result"
    }
   ],
   "source": [
    "df['trade_no'].tail(10)"
   ]
  },
  {
   "cell_type": "code",
   "execution_count": 14,
   "metadata": {
    "ExecuteTime": {
     "end_time": "2019-03-02T14:42:35.019249Z",
     "start_time": "2019-03-02T14:42:35.015257Z"
    }
   },
   "outputs": [],
   "source": [
    "def parse_trade_no(array):\n",
    "    lst = [array[:4], array[4:6], array[6:8], array[-10:]]\n",
    "    return lst"
   ]
  },
  {
   "cell_type": "code",
   "execution_count": 15,
   "metadata": {
    "ExecuteTime": {
     "end_time": "2019-03-02T14:42:35.089060Z",
     "start_time": "2019-03-02T14:42:35.079088Z"
    }
   },
   "outputs": [],
   "source": [
    "tradeno_df = pd.DataFrame(df['trade_no'].apply(parse_trade_no).values.tolist(), columns=['tradeno_year', 'tradeno_month', 'tradeno_day', 'tradeno_id'])"
   ]
  },
  {
   "cell_type": "code",
   "execution_count": 16,
   "metadata": {
    "ExecuteTime": {
     "end_time": "2019-03-02T14:42:35.173866Z",
     "start_time": "2019-03-02T14:42:35.141921Z"
    }
   },
   "outputs": [
    {
     "data": {
      "text/html": [
       "<div>\n",
       "<style scoped>\n",
       "    .dataframe tbody tr th:only-of-type {\n",
       "        vertical-align: middle;\n",
       "    }\n",
       "\n",
       "    .dataframe tbody tr th {\n",
       "        vertical-align: top;\n",
       "    }\n",
       "\n",
       "    .dataframe thead th {\n",
       "        text-align: right;\n",
       "    }\n",
       "</style>\n",
       "<table border=\"1\" class=\"dataframe\">\n",
       "  <thead>\n",
       "    <tr style=\"text-align: right;\">\n",
       "      <th></th>\n",
       "      <th>tradeno_year</th>\n",
       "      <th>tradeno_month</th>\n",
       "      <th>tradeno_day</th>\n",
       "      <th>tradeno_id</th>\n",
       "    </tr>\n",
       "  </thead>\n",
       "  <tbody>\n",
       "    <tr>\n",
       "      <th>count</th>\n",
       "      <td>4754</td>\n",
       "      <td>4754</td>\n",
       "      <td>4754</td>\n",
       "      <td>4754</td>\n",
       "    </tr>\n",
       "    <tr>\n",
       "      <th>unique</th>\n",
       "      <td>1</td>\n",
       "      <td>1</td>\n",
       "      <td>3</td>\n",
       "      <td>4754</td>\n",
       "    </tr>\n",
       "    <tr>\n",
       "      <th>top</th>\n",
       "      <td>2018</td>\n",
       "      <td>05</td>\n",
       "      <td>07</td>\n",
       "      <td>0023047917</td>\n",
       "    </tr>\n",
       "    <tr>\n",
       "      <th>freq</th>\n",
       "      <td>4754</td>\n",
       "      <td>4754</td>\n",
       "      <td>3682</td>\n",
       "      <td>1</td>\n",
       "    </tr>\n",
       "  </tbody>\n",
       "</table>\n",
       "</div>"
      ],
      "text/plain": [
       "       tradeno_year tradeno_month tradeno_day  tradeno_id\n",
       "count          4754          4754        4754        4754\n",
       "unique            1             1           3        4754\n",
       "top            2018            05          07  0023047917\n",
       "freq           4754          4754        3682           1"
      ]
     },
     "execution_count": 16,
     "metadata": {},
     "output_type": "execute_result"
    }
   ],
   "source": [
    "tradeno_df.describe()"
   ]
  },
  {
   "cell_type": "code",
   "execution_count": 17,
   "metadata": {
    "ExecuteTime": {
     "end_time": "2019-03-02T14:42:35.226692Z",
     "start_time": "2019-03-02T14:42:35.218715Z"
    }
   },
   "outputs": [
    {
     "data": {
      "text/plain": [
       "07    3682\n",
       "04    1062\n",
       "08      10\n",
       "Name: tradeno_day, dtype: int64"
      ]
     },
     "execution_count": 17,
     "metadata": {},
     "output_type": "execute_result"
    }
   ],
   "source": [
    "tradeno_df['tradeno_day'].value_counts()"
   ]
  },
  {
   "cell_type": "markdown",
   "metadata": {},
   "source": [
    "trade_no 字段像个 id 字段，假设前 8 位是年月日信息，可以看出 trade_no 均是在 2018 年 5 月份，tradeno_id 各不相同，保留 tradeno_day，其他的信息删除。"
   ]
  },
  {
   "cell_type": "code",
   "execution_count": 18,
   "metadata": {
    "ExecuteTime": {
     "end_time": "2019-03-02T14:42:35.358341Z",
     "start_time": "2019-03-02T14:42:35.339391Z"
    }
   },
   "outputs": [],
   "source": [
    "df = pd.concat((df.drop('trade_no', axis=1), tradeno_df['tradeno_day']), axis=1)"
   ]
  },
  {
   "cell_type": "code",
   "execution_count": 19,
   "metadata": {
    "ExecuteTime": {
     "end_time": "2019-03-02T14:42:35.617647Z",
     "start_time": "2019-03-02T14:42:35.399260Z"
    }
   },
   "outputs": [
    {
     "data": {
      "text/plain": [
       "<matplotlib.axes._subplots.AxesSubplot at 0x115c53f60>"
      ]
     },
     "execution_count": 19,
     "metadata": {},
     "output_type": "execute_result"
    },
    {
     "data": {
      "image/png": "[encoded data removed]",
      "text/plain": [
       "<Figure size 432x288 with 1 Axes>"
      ]
     },
     "metadata": {
      "needs_background": "light"
     },
     "output_type": "display_data"
    }
   ],
   "source": [
    "sns.barplot(data=df, x='tradeno_day', y='status')"
   ]
  },
  {
   "cell_type": "markdown",
   "metadata": {},
   "source": [
    "### id_name"
   ]
  },
  {
   "cell_type": "markdown",
   "metadata": {},
   "source": [
    "找出出现次数比较多的人名，看看逾期率"
   ]
  },
  {
   "cell_type": "code",
   "execution_count": 20,
   "metadata": {
    "ExecuteTime": {
     "end_time": "2019-03-02T14:42:35.635633Z",
     "start_time": "2019-03-02T14:42:35.618644Z"
    }
   },
   "outputs": [],
   "source": [
    "idname_count=df['id_name'].value_counts()\n",
    "\n",
    "idname_count = idname_count[idname_count>=4]\n",
    "\n",
    "idn_df = df[df['id_name'].isin(idname_count.index)]"
   ]
  },
  {
   "cell_type": "code",
   "execution_count": 21,
   "metadata": {
    "ExecuteTime": {
     "end_time": "2019-03-02T14:42:35.644575Z",
     "start_time": "2019-03-02T14:42:35.637594Z"
    }
   },
   "outputs": [
    {
     "data": {
      "text/plain": [
       "李杰    5\n",
       "张龙    5\n",
       "李明    5\n",
       "李波    4\n",
       "张伟    4\n",
       "陈鹏    4\n",
       "张超    4\n",
       "陈波    4\n",
       "刘强    4\n",
       "Name: id_name, dtype: int64"
      ]
     },
     "execution_count": 21,
     "metadata": {},
     "output_type": "execute_result"
    }
   ],
   "source": [
    "idn_df['id_name'].value_counts()"
   ]
  },
  {
   "cell_type": "code",
   "execution_count": 22,
   "metadata": {
    "ExecuteTime": {
     "end_time": "2019-03-02T14:42:35.984667Z",
     "start_time": "2019-03-02T14:42:35.646570Z"
    }
   },
   "outputs": [
    {
     "data": {
      "text/plain": [
       "<matplotlib.axes._subplots.AxesSubplot at 0x116207860>"
      ]
     },
     "execution_count": 22,
     "metadata": {},
     "output_type": "execute_result"
    },
    {
     "data": {
      "image/png": "[encoded data removed]",
      "text/plain": [
       "<Figure size 432x288 with 1 Axes>"
      ]
     },
     "metadata": {
      "needs_background": "light"
     },
     "output_type": "display_data"
    }
   ],
   "source": [
    "sns.barplot(data=idn_df, x='id_name', y='status')"
   ]
  },
  {
   "cell_type": "markdown",
   "metadata": {},
   "source": [
    "李明这个人逾期率挺高的，重点提出来作为类别变量"
   ]
  },
  {
   "cell_type": "code",
   "execution_count": 23,
   "metadata": {
    "ExecuteTime": {
     "end_time": "2019-03-02T14:42:35.994640Z",
     "start_time": "2019-03-02T14:42:35.986664Z"
    }
   },
   "outputs": [],
   "source": [
    "df['is_Li_Ming'] = (df['id_name'] == '李明').apply(int)"
   ]
  },
  {
   "cell_type": "code",
   "execution_count": 24,
   "metadata": {
    "ExecuteTime": {
     "end_time": "2019-03-02T14:42:36.011626Z",
     "start_time": "2019-03-02T14:42:35.998629Z"
    }
   },
   "outputs": [],
   "source": [
    "df.drop('id_name', inplace=True, axis=1)"
   ]
  },
  {
   "cell_type": "markdown",
   "metadata": {},
   "source": [
    "## 数值特征"
   ]
  },
  {
   "cell_type": "code",
   "execution_count": 25,
   "metadata": {
    "ExecuteTime": {
     "end_time": "2019-03-02T14:42:36.285859Z",
     "start_time": "2019-03-02T14:42:36.013588Z"
    }
   },
   "outputs": [],
   "source": [
    "value_cols = df.describe().columns"
   ]
  },
  {
   "cell_type": "code",
   "execution_count": 26,
   "metadata": {
    "ExecuteTime": {
     "end_time": "2019-03-02T14:42:36.335727Z",
     "start_time": "2019-03-02T14:42:36.287856Z"
    }
   },
   "outputs": [
    {
     "data": {
      "text/plain": [
       "count      84.000000\n",
       "mean      480.880952\n",
       "std      1046.966846\n",
       "min         2.000000\n",
       "25%        25.000000\n",
       "50%        60.500000\n",
       "75%       216.250000\n",
       "max      4754.000000\n",
       "dtype: float64"
      ]
     },
     "execution_count": 26,
     "metadata": {},
     "output_type": "execute_result"
    }
   ],
   "source": [
    "df[value_cols].nunique().describe()"
   ]
  },
  {
   "cell_type": "code",
   "execution_count": 27,
   "metadata": {
    "ExecuteTime": {
     "end_time": "2019-03-02T14:42:38.450106Z",
     "start_time": "2019-03-02T14:42:36.336726Z"
    }
   },
   "outputs": [
    {
     "data": {
      "text/plain": [
       "<matplotlib.axes._subplots.AxesSubplot at 0x11645c7f0>"
      ]
     },
     "execution_count": 27,
     "metadata": {},
     "output_type": "execute_result"
    },
    {
     "data": {
      "image/png": "[encoded data removed]",
      "text/plain": [
       "<Figure size 432x288 with 1 Axes>"
      ]
     },
     "metadata": {
      "needs_background": "light"
     },
     "output_type": "display_data"
    }
   ],
   "source": [
    "df[value_cols].nunique().plot(kind='bar', logy=True)"
   ]
  },
  {
   "cell_type": "code",
   "execution_count": 28,
   "metadata": {
    "ExecuteTime": {
     "end_time": "2019-03-02T14:42:38.557816Z",
     "start_time": "2019-03-02T14:42:38.452069Z"
    }
   },
   "outputs": [
    {
     "name": "stdout",
     "output_type": "stream",
     "text": [
      "数值特征 unique < 10 个数： 8\n",
      "数值特征 unique < 20 个数： 16\n",
      "数值特征 unique < 30 个数： 28\n"
     ]
    }
   ],
   "source": [
    "print('数值特征 unique < 10 个数：', len(df[value_cols].columns[df[value_cols].nunique()<10]))\n",
    "print('数值特征 unique < 20 个数：', len(df[value_cols].columns[df[value_cols].nunique()<20]))\n",
    "print('数值特征 unique < 30 个数：', len(df[value_cols].columns[df[value_cols].nunique()<30]))"
   ]
  },
  {
   "cell_type": "code",
   "execution_count": 29,
   "metadata": {
    "ExecuteTime": {
     "end_time": "2019-03-02T14:42:38.598676Z",
     "start_time": "2019-03-02T14:42:38.558782Z"
    }
   },
   "outputs": [
    {
     "name": "stdout",
     "output_type": "stream",
     "text": [
      "全部为 unique 的特征 Index(['Unnamed: 0', 'custid'], dtype='object')\n"
     ]
    }
   ],
   "source": [
    "print('全部为 unique 的特征', df[value_cols].columns[df[value_cols].nunique()==len(df)])"
   ]
  },
  {
   "cell_type": "markdown",
   "metadata": {},
   "source": [
    "从 unique 数量来讲，没有 unique == 1 的情况，先不予删除。"
   ]
  },
  {
   "cell_type": "markdown",
   "metadata": {},
   "source": [
    "### custid"
   ]
  },
  {
   "cell_type": "markdown",
   "metadata": {},
   "source": [
    "custid 范围中 100~400W，如果假设注册越早，id 越小，看一下 id 大小与逾期率的关系。"
   ]
  },
  {
   "cell_type": "code",
   "execution_count": 30,
   "metadata": {
    "ExecuteTime": {
     "end_time": "2019-03-02T14:42:38.606654Z",
     "start_time": "2019-03-02T14:42:38.601716Z"
    }
   },
   "outputs": [
    {
     "data": {
      "text/plain": [
       "array([1.00000000e+01, 3.16227766e+02, 1.00000000e+04, 3.16227766e+05,\n",
       "       1.00000000e+07, 3.16227766e+08, 1.00000000e+10])"
      ]
     },
     "execution_count": 30,
     "metadata": {},
     "output_type": "execute_result"
    }
   ],
   "source": [
    "np.logspace(1, 10, 7)"
   ]
  },
  {
   "cell_type": "code",
   "execution_count": 31,
   "metadata": {
    "ExecuteTime": {
     "end_time": "2019-03-02T14:42:38.617627Z",
     "start_time": "2019-03-02T14:42:38.608649Z"
    }
   },
   "outputs": [],
   "source": [
    "custid_range = np.logspace(1, 7, 7)[1:]"
   ]
  },
  {
   "cell_type": "code",
   "execution_count": 32,
   "metadata": {
    "ExecuteTime": {
     "end_time": "2019-03-02T14:42:38.635579Z",
     "start_time": "2019-03-02T14:42:38.619620Z"
    }
   },
   "outputs": [],
   "source": [
    "df['cust_id_bin'] = pd.cut(df['custid'], bins=custid_range, labels=[str(i) for i in custid_range][:-1])"
   ]
  },
  {
   "cell_type": "code",
   "execution_count": 33,
   "metadata": {
    "ExecuteTime": {
     "end_time": "2019-03-02T14:42:38.649540Z",
     "start_time": "2019-03-02T14:42:38.637572Z"
    }
   },
   "outputs": [
    {
     "data": {
      "text/plain": [
       "1000000.0    3249\n",
       "100000.0     1342\n",
       "10000.0       149\n",
       "1000.0         13\n",
       "100.0           1\n",
       "Name: cust_id_bin, dtype: int64"
      ]
     },
     "execution_count": 33,
     "metadata": {},
     "output_type": "execute_result"
    }
   ],
   "source": [
    "df['cust_id_bin'].value_counts()"
   ]
  },
  {
   "cell_type": "markdown",
   "metadata": {},
   "source": [
    "label 为 100 数据太少，并入 1000 中，1000000 之后再详细划分"
   ]
  },
  {
   "cell_type": "code",
   "execution_count": 34,
   "metadata": {
    "ExecuteTime": {
     "end_time": "2019-03-02T14:42:38.660510Z",
     "start_time": "2019-03-02T14:42:38.651534Z"
    }
   },
   "outputs": [],
   "source": [
    "custid_range = [1, 1e4, 1e5, 1e6, 2.5e6, 5e6]"
   ]
  },
  {
   "cell_type": "code",
   "execution_count": 35,
   "metadata": {
    "ExecuteTime": {
     "end_time": "2019-03-02T14:42:38.676469Z",
     "start_time": "2019-03-02T14:42:38.662505Z"
    }
   },
   "outputs": [],
   "source": [
    "df['cust_id_bin'] = pd.cut(df['custid'], bins=custid_range, labels=[str(i) for i in custid_range][:-1])"
   ]
  },
  {
   "cell_type": "code",
   "execution_count": 36,
   "metadata": {
    "ExecuteTime": {
     "end_time": "2019-03-02T14:42:39.021546Z",
     "start_time": "2019-03-02T14:42:38.678463Z"
    }
   },
   "outputs": [
    {
     "data": {
      "text/plain": [
       "<matplotlib.axes._subplots.AxesSubplot at 0x118b47e80>"
      ]
     },
     "execution_count": 36,
     "metadata": {},
     "output_type": "execute_result"
    },
    {
     "data": {
      "image/png": "[encoded data removed]",
      "text/plain": [
       "<Figure size 432x288 with 1 Axes>"
      ]
     },
     "metadata": {
      "needs_background": "light"
     },
     "output_type": "display_data"
    }
   ],
   "source": [
    "sns.barplot(data=df, x='cust_id_bin', y='status')"
   ]
  },
  {
   "cell_type": "markdown",
   "metadata": {},
   "source": [
    "正如猜想的一样，id 越小，逾期率越低，可能原因是越最近注册的，是新用户，紧急用钱，越可能逾期。先保留 id 这个特征。"
   ]
  },
  {
   "cell_type": "markdown",
   "metadata": {},
   "source": [
    "### Unnamed: 0"
   ]
  },
  {
   "cell_type": "code",
   "execution_count": 37,
   "metadata": {
    "ExecuteTime": {
     "end_time": "2019-03-02T14:42:39.028527Z",
     "start_time": "2019-03-02T14:42:39.023540Z"
    }
   },
   "outputs": [
    {
     "data": {
      "text/plain": [
       "4753"
      ]
     },
     "execution_count": 37,
     "metadata": {},
     "output_type": "execute_result"
    }
   ],
   "source": [
    "sum(df['Unnamed: 0'].diff(1)>0)"
   ]
  },
  {
   "cell_type": "code",
   "execution_count": 38,
   "metadata": {
    "ExecuteTime": {
     "end_time": "2019-03-02T14:42:39.040497Z",
     "start_time": "2019-03-02T14:42:39.030520Z"
    }
   },
   "outputs": [
    {
     "data": {
      "text/plain": [
       "4754"
      ]
     },
     "execution_count": 38,
     "metadata": {},
     "output_type": "execute_result"
    }
   ],
   "source": [
    "len(df)"
   ]
  },
  {
   "cell_type": "markdown",
   "metadata": {},
   "source": [
    "Unnamed: 0 这个特征数值是递增的，删除"
   ]
  },
  {
   "cell_type": "code",
   "execution_count": 39,
   "metadata": {
    "ExecuteTime": {
     "end_time": "2019-03-02T14:42:39.058448Z",
     "start_time": "2019-03-02T14:42:39.041491Z"
    }
   },
   "outputs": [],
   "source": [
    "df.drop('Unnamed: 0', axis=1, inplace=True)"
   ]
  },
  {
   "cell_type": "code",
   "execution_count": 40,
   "metadata": {
    "ExecuteTime": {
     "end_time": "2019-03-02T14:42:39.100335Z",
     "start_time": "2019-03-02T14:42:39.061439Z"
    }
   },
   "outputs": [
    {
     "data": {
      "text/html": [
       "<div>\n",
       "<style scoped>\n",
       "    .dataframe tbody tr th:only-of-type {\n",
       "        vertical-align: middle;\n",
       "    }\n",
       "\n",
       "    .dataframe tbody tr th {\n",
       "        vertical-align: top;\n",
       "    }\n",
       "\n",
       "    .dataframe thead th {\n",
       "        text-align: right;\n",
       "    }\n",
       "</style>\n",
       "<table border=\"1\" class=\"dataframe\">\n",
       "  <thead>\n",
       "    <tr style=\"text-align: right;\">\n",
       "      <th></th>\n",
       "      <th>custid</th>\n",
       "      <th>low_volume_percent</th>\n",
       "      <th>middle_volume_percent</th>\n",
       "      <th>take_amount_in_later_12_month_highest</th>\n",
       "      <th>trans_amount_increase_rate_lately</th>\n",
       "      <th>trans_activity_month</th>\n",
       "      <th>trans_activity_day</th>\n",
       "      <th>transd_mcc</th>\n",
       "      <th>trans_days_interval_filter</th>\n",
       "      <th>trans_days_interval</th>\n",
       "      <th>...</th>\n",
       "      <th>consfin_credibility</th>\n",
       "      <th>consfin_org_count_current</th>\n",
       "      <th>consfin_product_count</th>\n",
       "      <th>consfin_max_limit</th>\n",
       "      <th>consfin_avg_limit</th>\n",
       "      <th>latest_query_day</th>\n",
       "      <th>loans_latest_day</th>\n",
       "      <th>tradeno_day</th>\n",
       "      <th>is_Li_Ming</th>\n",
       "      <th>cust_id_bin</th>\n",
       "    </tr>\n",
       "  </thead>\n",
       "  <tbody>\n",
       "    <tr>\n",
       "      <th>0</th>\n",
       "      <td>2791858</td>\n",
       "      <td>0.01</td>\n",
       "      <td>0.99</td>\n",
       "      <td>0</td>\n",
       "      <td>0.90</td>\n",
       "      <td>0.55</td>\n",
       "      <td>0.313</td>\n",
       "      <td>17.0</td>\n",
       "      <td>27.0</td>\n",
       "      <td>26.0</td>\n",
       "      <td>...</td>\n",
       "      <td>75.0</td>\n",
       "      <td>1.0</td>\n",
       "      <td>2.0</td>\n",
       "      <td>1200.0</td>\n",
       "      <td>1200.0</td>\n",
       "      <td>12.0</td>\n",
       "      <td>18.0</td>\n",
       "      <td>07</td>\n",
       "      <td>0</td>\n",
       "      <td>2500000.0</td>\n",
       "    </tr>\n",
       "    <tr>\n",
       "      <th>1</th>\n",
       "      <td>534047</td>\n",
       "      <td>0.02</td>\n",
       "      <td>0.94</td>\n",
       "      <td>2000</td>\n",
       "      <td>1.28</td>\n",
       "      <td>1.00</td>\n",
       "      <td>0.458</td>\n",
       "      <td>19.0</td>\n",
       "      <td>30.0</td>\n",
       "      <td>14.0</td>\n",
       "      <td>...</td>\n",
       "      <td>80.0</td>\n",
       "      <td>5.0</td>\n",
       "      <td>6.0</td>\n",
       "      <td>22800.0</td>\n",
       "      <td>9360.0</td>\n",
       "      <td>4.0</td>\n",
       "      <td>2.0</td>\n",
       "      <td>07</td>\n",
       "      <td>0</td>\n",
       "      <td>100000.0</td>\n",
       "    </tr>\n",
       "    <tr>\n",
       "      <th>2</th>\n",
       "      <td>2849787</td>\n",
       "      <td>0.04</td>\n",
       "      <td>0.96</td>\n",
       "      <td>0</td>\n",
       "      <td>1.00</td>\n",
       "      <td>1.00</td>\n",
       "      <td>0.114</td>\n",
       "      <td>13.0</td>\n",
       "      <td>68.0</td>\n",
       "      <td>22.0</td>\n",
       "      <td>...</td>\n",
       "      <td>87.0</td>\n",
       "      <td>1.0</td>\n",
       "      <td>1.0</td>\n",
       "      <td>4200.0</td>\n",
       "      <td>4200.0</td>\n",
       "      <td>2.0</td>\n",
       "      <td>6.0</td>\n",
       "      <td>07</td>\n",
       "      <td>0</td>\n",
       "      <td>2500000.0</td>\n",
       "    </tr>\n",
       "    <tr>\n",
       "      <th>3</th>\n",
       "      <td>1809708</td>\n",
       "      <td>0.00</td>\n",
       "      <td>0.96</td>\n",
       "      <td>2000</td>\n",
       "      <td>0.13</td>\n",
       "      <td>0.57</td>\n",
       "      <td>0.777</td>\n",
       "      <td>22.0</td>\n",
       "      <td>14.0</td>\n",
       "      <td>6.0</td>\n",
       "      <td>...</td>\n",
       "      <td>80.0</td>\n",
       "      <td>5.0</td>\n",
       "      <td>5.0</td>\n",
       "      <td>30000.0</td>\n",
       "      <td>12180.0</td>\n",
       "      <td>2.0</td>\n",
       "      <td>4.0</td>\n",
       "      <td>07</td>\n",
       "      <td>0</td>\n",
       "      <td>1000000.0</td>\n",
       "    </tr>\n",
       "    <tr>\n",
       "      <th>4</th>\n",
       "      <td>2499829</td>\n",
       "      <td>0.01</td>\n",
       "      <td>0.99</td>\n",
       "      <td>0</td>\n",
       "      <td>0.46</td>\n",
       "      <td>1.00</td>\n",
       "      <td>0.175</td>\n",
       "      <td>13.0</td>\n",
       "      <td>66.0</td>\n",
       "      <td>42.0</td>\n",
       "      <td>...</td>\n",
       "      <td>79.0</td>\n",
       "      <td>2.0</td>\n",
       "      <td>2.0</td>\n",
       "      <td>8400.0</td>\n",
       "      <td>8250.0</td>\n",
       "      <td>22.0</td>\n",
       "      <td>120.0</td>\n",
       "      <td>07</td>\n",
       "      <td>0</td>\n",
       "      <td>1000000.0</td>\n",
       "    </tr>\n",
       "  </tbody>\n",
       "</table>\n",
       "<p>5 rows × 88 columns</p>\n",
       "</div>"
      ],
      "text/plain": [
       "    custid  low_volume_percent  middle_volume_percent  \\\n",
       "0  2791858                0.01                   0.99   \n",
       "1   534047                0.02                   0.94   \n",
       "2  2849787                0.04                   0.96   \n",
       "3  1809708                0.00                   0.96   \n",
       "4  2499829                0.01                   0.99   \n",
       "\n",
       "   take_amount_in_later_12_month_highest  trans_amount_increase_rate_lately  \\\n",
       "0                                      0                               0.90   \n",
       "1                                   2000                               1.28   \n",
       "2                                      0                               1.00   \n",
       "3                                   2000                               0.13   \n",
       "4                                      0                               0.46   \n",
       "\n",
       "   trans_activity_month  trans_activity_day  transd_mcc  \\\n",
       "0                  0.55               0.313        17.0   \n",
       "1                  1.00               0.458        19.0   \n",
       "2                  1.00               0.114        13.0   \n",
       "3                  0.57               0.777        22.0   \n",
       "4                  1.00               0.175        13.0   \n",
       "\n",
       "   trans_days_interval_filter  trans_days_interval     ...       \\\n",
       "0                        27.0                 26.0     ...        \n",
       "1                        30.0                 14.0     ...        \n",
       "2                        68.0                 22.0     ...        \n",
       "3                        14.0                  6.0     ...        \n",
       "4                        66.0                 42.0     ...        \n",
       "\n",
       "   consfin_credibility  consfin_org_count_current  consfin_product_count  \\\n",
       "0                 75.0                        1.0                    2.0   \n",
       "1                 80.0                        5.0                    6.0   \n",
       "2                 87.0                        1.0                    1.0   \n",
       "3                 80.0                        5.0                    5.0   \n",
       "4                 79.0                        2.0                    2.0   \n",
       "\n",
       "   consfin_max_limit  consfin_avg_limit  latest_query_day  loans_latest_day  \\\n",
       "0             1200.0             1200.0              12.0              18.0   \n",
       "1            22800.0             9360.0               4.0               2.0   \n",
       "2             4200.0             4200.0               2.0               6.0   \n",
       "3            30000.0            12180.0               2.0               4.0   \n",
       "4             8400.0             8250.0              22.0             120.0   \n",
       "\n",
       "   tradeno_day  is_Li_Ming  cust_id_bin  \n",
       "0           07           0    2500000.0  \n",
       "1           07           0     100000.0  \n",
       "2           07           0    2500000.0  \n",
       "3           07           0    1000000.0  \n",
       "4           07           0    1000000.0  \n",
       "\n",
       "[5 rows x 88 columns]"
      ]
     },
     "execution_count": 40,
     "metadata": {},
     "output_type": "execute_result"
    }
   ],
   "source": [
    "df.head()"
   ]
  },
  {
   "cell_type": "code",
   "execution_count": 41,
   "metadata": {
    "ExecuteTime": {
     "end_time": "2019-03-02T14:42:39.330751Z",
     "start_time": "2019-03-02T14:42:39.103332Z"
    }
   },
   "outputs": [
    {
     "data": {
      "text/plain": [
       "83"
      ]
     },
     "execution_count": 41,
     "metadata": {},
     "output_type": "execute_result"
    }
   ],
   "source": [
    "len(df.describe().columns)"
   ]
  },
  {
   "cell_type": "markdown",
   "metadata": {},
   "source": [
    "# 数据类型转换"
   ]
  },
  {
   "cell_type": "code",
   "execution_count": 42,
   "metadata": {
    "ExecuteTime": {
     "end_time": "2019-03-02T14:42:39.376596Z",
     "start_time": "2019-03-02T14:42:39.333712Z"
    }
   },
   "outputs": [
    {
     "data": {
      "text/html": [
       "<div>\n",
       "<style scoped>\n",
       "    .dataframe tbody tr th:only-of-type {\n",
       "        vertical-align: middle;\n",
       "    }\n",
       "\n",
       "    .dataframe tbody tr th {\n",
       "        vertical-align: top;\n",
       "    }\n",
       "\n",
       "    .dataframe thead th {\n",
       "        text-align: right;\n",
       "    }\n",
       "</style>\n",
       "<table border=\"1\" class=\"dataframe\">\n",
       "  <thead>\n",
       "    <tr style=\"text-align: right;\">\n",
       "      <th></th>\n",
       "      <th>reg_preference_for_trad</th>\n",
       "      <th>latest_query_time</th>\n",
       "      <th>loans_latest_time</th>\n",
       "      <th>tradeno_day</th>\n",
       "    </tr>\n",
       "  </thead>\n",
       "  <tbody>\n",
       "    <tr>\n",
       "      <th>count</th>\n",
       "      <td>4752</td>\n",
       "      <td>4450</td>\n",
       "      <td>4457</td>\n",
       "      <td>4754</td>\n",
       "    </tr>\n",
       "    <tr>\n",
       "      <th>unique</th>\n",
       "      <td>5</td>\n",
       "      <td>207</td>\n",
       "      <td>232</td>\n",
       "      <td>3</td>\n",
       "    </tr>\n",
       "    <tr>\n",
       "      <th>top</th>\n",
       "      <td>一线城市</td>\n",
       "      <td>2018-04-14</td>\n",
       "      <td>2018-05-03</td>\n",
       "      <td>07</td>\n",
       "    </tr>\n",
       "    <tr>\n",
       "      <th>freq</th>\n",
       "      <td>3403</td>\n",
       "      <td>423</td>\n",
       "      <td>134</td>\n",
       "      <td>3682</td>\n",
       "    </tr>\n",
       "  </tbody>\n",
       "</table>\n",
       "</div>"
      ],
      "text/plain": [
       "       reg_preference_for_trad latest_query_time loans_latest_time tradeno_day\n",
       "count                     4752              4450              4457        4754\n",
       "unique                       5               207               232           3\n",
       "top                       一线城市        2018-04-14        2018-05-03          07\n",
       "freq                      3403               423               134        3682"
      ]
     },
     "execution_count": 42,
     "metadata": {},
     "output_type": "execute_result"
    }
   ],
   "source": [
    "df.describe(include='O')"
   ]
  },
  {
   "cell_type": "markdown",
   "metadata": {},
   "source": [
    "## reg_preference_for_trad"
   ]
  },
  {
   "cell_type": "code",
   "execution_count": 43,
   "metadata": {
    "ExecuteTime": {
     "end_time": "2019-03-02T14:42:39.385581Z",
     "start_time": "2019-03-02T14:42:39.378594Z"
    }
   },
   "outputs": [
    {
     "data": {
      "text/plain": [
       "一线城市    3403\n",
       "三线城市    1064\n",
       "境外       150\n",
       "二线城市     131\n",
       "其他城市       4\n",
       "Name: reg_preference_for_trad, dtype: int64"
      ]
     },
     "execution_count": 43,
     "metadata": {},
     "output_type": "execute_result"
    }
   ],
   "source": [
    "df['reg_preference_for_trad'].value_counts()"
   ]
  },
  {
   "cell_type": "markdown",
   "metadata": {},
   "source": [
    "城市之间存在大小差别，采用自然数编码"
   ]
  },
  {
   "cell_type": "code",
   "execution_count": 44,
   "metadata": {
    "ExecuteTime": {
     "end_time": "2019-03-02T14:42:39.397542Z",
     "start_time": "2019-03-02T14:42:39.389562Z"
    }
   },
   "outputs": [],
   "source": [
    "city_map = {'一线城市':1, '二线城市':2, '三线城市':3, '其他城市':0, '境外':5}"
   ]
  },
  {
   "cell_type": "code",
   "execution_count": 45,
   "metadata": {
    "ExecuteTime": {
     "end_time": "2019-03-02T14:42:39.409509Z",
     "start_time": "2019-03-02T14:42:39.400536Z"
    }
   },
   "outputs": [],
   "source": [
    "df['reg_preference_for_trad'] = df['reg_preference_for_trad'].map(city_map)"
   ]
  },
  {
   "cell_type": "markdown",
   "metadata": {},
   "source": [
    "## tradeno_day"
   ]
  },
  {
   "cell_type": "code",
   "execution_count": 46,
   "metadata": {
    "ExecuteTime": {
     "end_time": "2019-03-02T14:42:39.426463Z",
     "start_time": "2019-03-02T14:42:39.411503Z"
    }
   },
   "outputs": [],
   "source": [
    "df['tradeno_day'] = df['tradeno_day'].astype('int')"
   ]
  },
  {
   "cell_type": "code",
   "execution_count": 47,
   "metadata": {
    "ExecuteTime": {
     "end_time": "2019-03-02T14:42:39.479321Z",
     "start_time": "2019-03-02T14:42:39.428458Z"
    }
   },
   "outputs": [
    {
     "data": {
      "text/html": [
       "<div>\n",
       "<style scoped>\n",
       "    .dataframe tbody tr th:only-of-type {\n",
       "        vertical-align: middle;\n",
       "    }\n",
       "\n",
       "    .dataframe tbody tr th {\n",
       "        vertical-align: top;\n",
       "    }\n",
       "\n",
       "    .dataframe thead th {\n",
       "        text-align: right;\n",
       "    }\n",
       "</style>\n",
       "<table border=\"1\" class=\"dataframe\">\n",
       "  <thead>\n",
       "    <tr style=\"text-align: right;\">\n",
       "      <th></th>\n",
       "      <th>latest_query_time</th>\n",
       "      <th>loans_latest_time</th>\n",
       "    </tr>\n",
       "  </thead>\n",
       "  <tbody>\n",
       "    <tr>\n",
       "      <th>count</th>\n",
       "      <td>4450</td>\n",
       "      <td>4457</td>\n",
       "    </tr>\n",
       "    <tr>\n",
       "      <th>unique</th>\n",
       "      <td>207</td>\n",
       "      <td>232</td>\n",
       "    </tr>\n",
       "    <tr>\n",
       "      <th>top</th>\n",
       "      <td>2018-04-14</td>\n",
       "      <td>2018-05-03</td>\n",
       "    </tr>\n",
       "    <tr>\n",
       "      <th>freq</th>\n",
       "      <td>423</td>\n",
       "      <td>134</td>\n",
       "    </tr>\n",
       "  </tbody>\n",
       "</table>\n",
       "</div>"
      ],
      "text/plain": [
       "       latest_query_time loans_latest_time\n",
       "count               4450              4457\n",
       "unique               207               232\n",
       "top           2018-04-14        2018-05-03\n",
       "freq                 423               134"
      ]
     },
     "execution_count": 47,
     "metadata": {},
     "output_type": "execute_result"
    }
   ],
   "source": [
    "df.describe(include='O')"
   ]
  },
  {
   "cell_type": "markdown",
   "metadata": {},
   "source": [
    "# 缺失值处理"
   ]
  },
  {
   "cell_type": "code",
   "execution_count": 48,
   "metadata": {
    "ExecuteTime": {
     "end_time": "2019-03-02T14:42:41.082035Z",
     "start_time": "2019-03-02T14:42:39.481318Z"
    }
   },
   "outputs": [
    {
     "data": {
      "text/plain": [
       "[<matplotlib.lines.Line2D at 0x116a05470>]"
      ]
     },
     "execution_count": 48,
     "metadata": {},
     "output_type": "execute_result"
    },
    {
     "data": {
      "image/png": "[encoded data removed]",
      "text/plain": [
       "<Figure size 432x288 with 1 Axes>"
      ]
     },
     "metadata": {
      "needs_background": "light"
     },
     "output_type": "display_data"
    }
   ],
   "source": [
    "nan_prop = df.isnull().sum(axis=0)[df.isnull().sum(axis=0)!=0]/df.shape[0]\n",
    "plt.plot(nan_prop)"
   ]
  },
  {
   "cell_type": "markdown",
   "metadata": {},
   "source": [
    "## 缺失值处理"
   ]
  },
  {
   "cell_type": "markdown",
   "metadata": {},
   "source": [
    "缺失值大概分成大类，比例在 60%，5%~10%, 1% 左右"
   ]
  },
  {
   "cell_type": "markdown",
   "metadata": {},
   "source": [
    "### 缺失比例>10%"
   ]
  },
  {
   "cell_type": "markdown",
   "metadata": {},
   "source": [
    "只有一列，转换成 one-hot 编码"
   ]
  },
  {
   "cell_type": "code",
   "execution_count": 49,
   "metadata": {
    "ExecuteTime": {
     "end_time": "2019-03-02T14:42:41.099015Z",
     "start_time": "2019-03-02T14:42:41.084031Z"
    }
   },
   "outputs": [],
   "source": [
    "nan100 = df[df.columns[df.isnull().sum(0)/df.shape[0]>0.1]]"
   ]
  },
  {
   "cell_type": "code",
   "execution_count": 50,
   "metadata": {
    "ExecuteTime": {
     "end_time": "2019-03-02T14:42:41.106003Z",
     "start_time": "2019-03-02T14:42:41.100984Z"
    }
   },
   "outputs": [
    {
     "data": {
      "text/plain": [
       "Index(['student_feature'], dtype='object')"
      ]
     },
     "execution_count": 50,
     "metadata": {},
     "output_type": "execute_result"
    }
   ],
   "source": [
    "nan100.columns"
   ]
  },
  {
   "cell_type": "code",
   "execution_count": 51,
   "metadata": {
    "ExecuteTime": {
     "end_time": "2019-03-02T14:42:41.118941Z",
     "start_time": "2019-03-02T14:42:41.107966Z"
    }
   },
   "outputs": [
    {
     "data": {
      "text/plain": [
       "1.0    1754\n",
       "2.0       2\n",
       "Name: student_feature, dtype: int64"
      ]
     },
     "execution_count": 51,
     "metadata": {},
     "output_type": "execute_result"
    }
   ],
   "source": [
    "nan100['student_feature'].value_counts()"
   ]
  },
  {
   "cell_type": "code",
   "execution_count": 52,
   "metadata": {
    "ExecuteTime": {
     "end_time": "2019-03-02T14:42:41.129908Z",
     "start_time": "2019-03-02T14:42:41.121948Z"
    }
   },
   "outputs": [],
   "source": [
    "def parse_student_feature(array):\n",
    "    lst = [0, 0, 0]\n",
    "    if array == 1:\n",
    "        lst[0] = 1\n",
    "    elif array == 2:\n",
    "        lst[1] = 1\n",
    "    else:\n",
    "        lst[2] = 1\n",
    "    return lst"
   ]
  },
  {
   "cell_type": "code",
   "execution_count": 53,
   "metadata": {
    "ExecuteTime": {
     "end_time": "2019-03-02T14:42:41.151850Z",
     "start_time": "2019-03-02T14:42:41.132898Z"
    }
   },
   "outputs": [],
   "source": [
    "stu_featdf = pd.DataFrame(df['student_feature'].apply(parse_student_feature).values.tolist(\n",
    "), columns=['student_feat_1', 'student_feat_2', 'student_feat_na'])"
   ]
  },
  {
   "cell_type": "code",
   "execution_count": 54,
   "metadata": {
    "ExecuteTime": {
     "end_time": "2019-03-02T14:42:41.171827Z",
     "start_time": "2019-03-02T14:42:41.153843Z"
    }
   },
   "outputs": [],
   "source": [
    "df = pd.concat((df.drop('student_feature', axis=1), stu_featdf), axis=1)"
   ]
  },
  {
   "cell_type": "markdown",
   "metadata": {},
   "source": [
    "### 缺失比例 < 1%"
   ]
  },
  {
   "cell_type": "markdown",
   "metadata": {},
   "source": [
    "用众数或平均数填补"
   ]
  },
  {
   "cell_type": "code",
   "execution_count": 55,
   "metadata": {
    "ExecuteTime": {
     "end_time": "2019-03-02T14:42:41.215720Z",
     "start_time": "2019-03-02T14:42:41.173790Z"
    }
   },
   "outputs": [
    {
     "data": {
      "text/plain": [
       "low_volume_percent                           40\n",
       "middle_volume_percent                        90\n",
       "trans_amount_increase_rate_lately           782\n",
       "trans_activity_month                         84\n",
       "trans_activity_day                          512\n",
       "transd_mcc                                   41\n",
       "trans_days_interval_filter                  147\n",
       "trans_days_interval                         114\n",
       "regional_mobility                             5\n",
       "number_of_trans_from_2011                    70\n",
       "first_transaction_time                     1693\n",
       "historical_trans_day                        476\n",
       "rank_trad_1_month                            20\n",
       "avg_consume_less_12_valid_month              12\n",
       "top_trans_count_last_1_month                  8\n",
       "reg_preference_for_trad                       5\n",
       "trans_top_time_last_1_month                  28\n",
       "trans_top_time_last_6_month                  97\n",
       "consume_top_time_last_1_month                28\n",
       "consume_top_time_last_6_month                94\n",
       "trans_fail_top_count_enum_last_1_month       15\n",
       "trans_fail_top_count_enum_last_6_month       25\n",
       "trans_fail_top_count_enum_last_12_month      26\n",
       "consume_mini_time_last_1_month             1971\n",
       "max_consume_count_later_6_month              29\n",
       "railway_consume_count_last_12_month           6\n",
       "jewelry_consume_count_last_6_month            7\n",
       "first_transaction_day                      1693\n",
       "trans_day_last_12_month                     132\n",
       "dtype: int64"
      ]
     },
     "execution_count": 55,
     "metadata": {},
     "output_type": "execute_result"
    }
   ],
   "source": [
    "na1 = df[df.columns[(df.isnull().sum(0)/df.shape[0]<0.01)&(df.isnull().sum(0)/df.shape[0]>0)]]\n",
    "na1.nunique()"
   ]
  },
  {
   "cell_type": "code",
   "execution_count": 56,
   "metadata": {
    "ExecuteTime": {
     "end_time": "2019-03-02T14:42:41.250584Z",
     "start_time": "2019-03-02T14:42:41.218672Z"
    }
   },
   "outputs": [
    {
     "data": {
      "text/html": [
       "<div>\n",
       "<style scoped>\n",
       "    .dataframe tbody tr th:only-of-type {\n",
       "        vertical-align: middle;\n",
       "    }\n",
       "\n",
       "    .dataframe tbody tr th {\n",
       "        vertical-align: top;\n",
       "    }\n",
       "\n",
       "    .dataframe thead th {\n",
       "        text-align: right;\n",
       "    }\n",
       "</style>\n",
       "<table border=\"1\" class=\"dataframe\">\n",
       "  <thead>\n",
       "    <tr style=\"text-align: right;\">\n",
       "      <th></th>\n",
       "      <th>low_volume_percent</th>\n",
       "      <th>middle_volume_percent</th>\n",
       "      <th>trans_amount_increase_rate_lately</th>\n",
       "      <th>trans_activity_month</th>\n",
       "      <th>trans_activity_day</th>\n",
       "      <th>transd_mcc</th>\n",
       "      <th>trans_days_interval_filter</th>\n",
       "      <th>trans_days_interval</th>\n",
       "      <th>regional_mobility</th>\n",
       "      <th>number_of_trans_from_2011</th>\n",
       "      <th>...</th>\n",
       "      <th>consume_top_time_last_6_month</th>\n",
       "      <th>trans_fail_top_count_enum_last_1_month</th>\n",
       "      <th>trans_fail_top_count_enum_last_6_month</th>\n",
       "      <th>trans_fail_top_count_enum_last_12_month</th>\n",
       "      <th>consume_mini_time_last_1_month</th>\n",
       "      <th>max_consume_count_later_6_month</th>\n",
       "      <th>railway_consume_count_last_12_month</th>\n",
       "      <th>jewelry_consume_count_last_6_month</th>\n",
       "      <th>first_transaction_day</th>\n",
       "      <th>trans_day_last_12_month</th>\n",
       "    </tr>\n",
       "  </thead>\n",
       "  <tbody>\n",
       "    <tr>\n",
       "      <th>0</th>\n",
       "      <td>0.01</td>\n",
       "      <td>0.99</td>\n",
       "      <td>0.90</td>\n",
       "      <td>0.55</td>\n",
       "      <td>0.313</td>\n",
       "      <td>17.0</td>\n",
       "      <td>27.0</td>\n",
       "      <td>26.0</td>\n",
       "      <td>3.0</td>\n",
       "      <td>30.0</td>\n",
       "      <td>...</td>\n",
       "      <td>19.0</td>\n",
       "      <td>1.0</td>\n",
       "      <td>2.0</td>\n",
       "      <td>2.0</td>\n",
       "      <td>5.0</td>\n",
       "      <td>6.0</td>\n",
       "      <td>0.0</td>\n",
       "      <td>0.0</td>\n",
       "      <td>1738.0</td>\n",
       "      <td>85.0</td>\n",
       "    </tr>\n",
       "    <tr>\n",
       "      <th>1</th>\n",
       "      <td>0.02</td>\n",
       "      <td>0.94</td>\n",
       "      <td>1.28</td>\n",
       "      <td>1.00</td>\n",
       "      <td>0.458</td>\n",
       "      <td>19.0</td>\n",
       "      <td>30.0</td>\n",
       "      <td>14.0</td>\n",
       "      <td>4.0</td>\n",
       "      <td>23.0</td>\n",
       "      <td>...</td>\n",
       "      <td>30.0</td>\n",
       "      <td>0.0</td>\n",
       "      <td>3.0</td>\n",
       "      <td>3.0</td>\n",
       "      <td>330.0</td>\n",
       "      <td>9.0</td>\n",
       "      <td>0.0</td>\n",
       "      <td>0.0</td>\n",
       "      <td>779.0</td>\n",
       "      <td>84.0</td>\n",
       "    </tr>\n",
       "    <tr>\n",
       "      <th>2</th>\n",
       "      <td>0.04</td>\n",
       "      <td>0.96</td>\n",
       "      <td>1.00</td>\n",
       "      <td>1.00</td>\n",
       "      <td>0.114</td>\n",
       "      <td>13.0</td>\n",
       "      <td>68.0</td>\n",
       "      <td>22.0</td>\n",
       "      <td>1.0</td>\n",
       "      <td>9.0</td>\n",
       "      <td>...</td>\n",
       "      <td>68.0</td>\n",
       "      <td>3.0</td>\n",
       "      <td>6.0</td>\n",
       "      <td>6.0</td>\n",
       "      <td>0.0</td>\n",
       "      <td>3.0</td>\n",
       "      <td>0.0</td>\n",
       "      <td>0.0</td>\n",
       "      <td>338.0</td>\n",
       "      <td>95.0</td>\n",
       "    </tr>\n",
       "    <tr>\n",
       "      <th>3</th>\n",
       "      <td>0.00</td>\n",
       "      <td>0.96</td>\n",
       "      <td>0.13</td>\n",
       "      <td>0.57</td>\n",
       "      <td>0.777</td>\n",
       "      <td>22.0</td>\n",
       "      <td>14.0</td>\n",
       "      <td>6.0</td>\n",
       "      <td>3.0</td>\n",
       "      <td>33.0</td>\n",
       "      <td>...</td>\n",
       "      <td>8.0</td>\n",
       "      <td>1.0</td>\n",
       "      <td>8.0</td>\n",
       "      <td>8.0</td>\n",
       "      <td>31700.0</td>\n",
       "      <td>9.0</td>\n",
       "      <td>0.0</td>\n",
       "      <td>0.0</td>\n",
       "      <td>1831.0</td>\n",
       "      <td>82.0</td>\n",
       "    </tr>\n",
       "    <tr>\n",
       "      <th>4</th>\n",
       "      <td>0.01</td>\n",
       "      <td>0.99</td>\n",
       "      <td>0.46</td>\n",
       "      <td>1.00</td>\n",
       "      <td>0.175</td>\n",
       "      <td>13.0</td>\n",
       "      <td>66.0</td>\n",
       "      <td>42.0</td>\n",
       "      <td>1.0</td>\n",
       "      <td>12.0</td>\n",
       "      <td>...</td>\n",
       "      <td>66.0</td>\n",
       "      <td>3.0</td>\n",
       "      <td>3.0</td>\n",
       "      <td>3.0</td>\n",
       "      <td>0.0</td>\n",
       "      <td>3.0</td>\n",
       "      <td>0.0</td>\n",
       "      <td>0.0</td>\n",
       "      <td>435.0</td>\n",
       "      <td>88.0</td>\n",
       "    </tr>\n",
       "  </tbody>\n",
       "</table>\n",
       "<p>5 rows × 29 columns</p>\n",
       "</div>"
      ],
      "text/plain": [
       "   low_volume_percent  middle_volume_percent  \\\n",
       "0                0.01                   0.99   \n",
       "1                0.02                   0.94   \n",
       "2                0.04                   0.96   \n",
       "3                0.00                   0.96   \n",
       "4                0.01                   0.99   \n",
       "\n",
       "   trans_amount_increase_rate_lately  trans_activity_month  \\\n",
       "0                               0.90                  0.55   \n",
       "1                               1.28                  1.00   \n",
       "2                               1.00                  1.00   \n",
       "3                               0.13                  0.57   \n",
       "4                               0.46                  1.00   \n",
       "\n",
       "   trans_activity_day  transd_mcc  trans_days_interval_filter  \\\n",
       "0               0.313        17.0                        27.0   \n",
       "1               0.458        19.0                        30.0   \n",
       "2               0.114        13.0                        68.0   \n",
       "3               0.777        22.0                        14.0   \n",
       "4               0.175        13.0                        66.0   \n",
       "\n",
       "   trans_days_interval  regional_mobility  number_of_trans_from_2011  \\\n",
       "0                 26.0                3.0                       30.0   \n",
       "1                 14.0                4.0                       23.0   \n",
       "2                 22.0                1.0                        9.0   \n",
       "3                  6.0                3.0                       33.0   \n",
       "4                 42.0                1.0                       12.0   \n",
       "\n",
       "            ...             consume_top_time_last_6_month  \\\n",
       "0           ...                                      19.0   \n",
       "1           ...                                      30.0   \n",
       "2           ...                                      68.0   \n",
       "3           ...                                       8.0   \n",
       "4           ...                                      66.0   \n",
       "\n",
       "   trans_fail_top_count_enum_last_1_month  \\\n",
       "0                                     1.0   \n",
       "1                                     0.0   \n",
       "2                                     3.0   \n",
       "3                                     1.0   \n",
       "4                                     3.0   \n",
       "\n",
       "   trans_fail_top_count_enum_last_6_month  \\\n",
       "0                                     2.0   \n",
       "1                                     3.0   \n",
       "2                                     6.0   \n",
       "3                                     8.0   \n",
       "4                                     3.0   \n",
       "\n",
       "   trans_fail_top_count_enum_last_12_month  consume_mini_time_last_1_month  \\\n",
       "0                                      2.0                             5.0   \n",
       "1                                      3.0                           330.0   \n",
       "2                                      6.0                             0.0   \n",
       "3                                      8.0                         31700.0   \n",
       "4                                      3.0                             0.0   \n",
       "\n",
       "   max_consume_count_later_6_month  railway_consume_count_last_12_month  \\\n",
       "0                              6.0                                  0.0   \n",
       "1                              9.0                                  0.0   \n",
       "2                              3.0                                  0.0   \n",
       "3                              9.0                                  0.0   \n",
       "4                              3.0                                  0.0   \n",
       "\n",
       "   jewelry_consume_count_last_6_month  first_transaction_day  \\\n",
       "0                                 0.0                 1738.0   \n",
       "1                                 0.0                  779.0   \n",
       "2                                 0.0                  338.0   \n",
       "3                                 0.0                 1831.0   \n",
       "4                                 0.0                  435.0   \n",
       "\n",
       "   trans_day_last_12_month  \n",
       "0                     85.0  \n",
       "1                     84.0  \n",
       "2                     95.0  \n",
       "3                     82.0  \n",
       "4                     88.0  \n",
       "\n",
       "[5 rows x 29 columns]"
      ]
     },
     "execution_count": 56,
     "metadata": {},
     "output_type": "execute_result"
    }
   ],
   "source": [
    "na1.head()"
   ]
  },
  {
   "cell_type": "code",
   "execution_count": 57,
   "metadata": {
    "ExecuteTime": {
     "end_time": "2019-03-02T14:42:41.265545Z",
     "start_time": "2019-03-02T14:42:41.253577Z"
    }
   },
   "outputs": [
    {
     "data": {
      "text/plain": [
       "low_volume_percent                          2\n",
       "middle_volume_percent                       2\n",
       "trans_amount_increase_rate_lately           3\n",
       "trans_activity_month                        2\n",
       "trans_activity_day                          2\n",
       "transd_mcc                                  2\n",
       "trans_days_interval_filter                  8\n",
       "trans_days_interval                         2\n",
       "regional_mobility                           2\n",
       "number_of_trans_from_2011                   2\n",
       "first_transaction_time                      2\n",
       "historical_trans_day                        2\n",
       "rank_trad_1_month                           2\n",
       "avg_consume_less_12_valid_month             2\n",
       "top_trans_count_last_1_month                2\n",
       "reg_preference_for_trad                     2\n",
       "trans_top_time_last_1_month                 8\n",
       "trans_top_time_last_6_month                 8\n",
       "consume_top_time_last_1_month               8\n",
       "consume_top_time_last_6_month               8\n",
       "trans_fail_top_count_enum_last_1_month     16\n",
       "trans_fail_top_count_enum_last_6_month     16\n",
       "trans_fail_top_count_enum_last_12_month    16\n",
       "consume_mini_time_last_1_month             26\n",
       "max_consume_count_later_6_month             8\n",
       "railway_consume_count_last_12_month        12\n",
       "jewelry_consume_count_last_6_month         12\n",
       "first_transaction_day                       2\n",
       "trans_day_last_12_month                     2\n",
       "dtype: int64"
      ]
     },
     "execution_count": 57,
     "metadata": {},
     "output_type": "execute_result"
    }
   ],
   "source": [
    "na1.isnull().sum()"
   ]
  },
  {
   "cell_type": "code",
   "execution_count": 58,
   "metadata": {
    "ExecuteTime": {
     "end_time": "2019-03-02T14:42:41.279507Z",
     "start_time": "2019-03-02T14:42:41.267539Z"
    }
   },
   "outputs": [
    {
     "name": "stdout",
     "output_type": "stream",
     "text": [
      "Int64Index([1022, 1205, 1275, 1487, 1791, 1795, 1901, 2703, 2762, 3021, 3075,\n",
      "            3740, 3856, 4228, 4500, 4647],\n",
      "           dtype='int64')\n",
      "Int64Index([1022, 1205, 1275, 1487, 1791, 1795, 1901, 2703, 2762, 3021, 3075,\n",
      "            3740, 3856, 4228, 4500, 4647],\n",
      "           dtype='int64')\n",
      "Int64Index([1022, 1205, 1275, 1487, 1791, 1795, 1901, 2703, 2762, 3021, 3075,\n",
      "            3740, 3856, 4228, 4500, 4647],\n",
      "           dtype='int64')\n"
     ]
    }
   ],
   "source": [
    "print(df[df['trans_fail_top_count_enum_last_1_month'].isnull()].index)\n",
    "print(df[df['trans_fail_top_count_enum_last_6_month'].isnull()].index)\n",
    "print(df[df['trans_fail_top_count_enum_last_12_month'].isnull()].index)"
   ]
  },
  {
   "cell_type": "markdown",
   "metadata": {
    "ExecuteTime": {
     "end_time": "2019-03-02T10:24:16.087953Z",
     "start_time": "2019-03-02T10:24:16.080970Z"
    }
   },
   "source": [
    "trans_fail_top_count_enum_last_X_month 这几个特征在同一个位置信息都是缺失的。  \n",
    "从数据来看，12month count 数目大于 6month，大于 1month。  \n",
    "填充缺失值后注意检查一下。"
   ]
  },
  {
   "cell_type": "markdown",
   "metadata": {},
   "source": [
    "unique<10 的分类用众数，\n",
    "\n",
    "unique>10 的用平均数填充"
   ]
  },
  {
   "cell_type": "code",
   "execution_count": 59,
   "metadata": {
    "ExecuteTime": {
     "end_time": "2019-03-02T14:42:41.291475Z",
     "start_time": "2019-03-02T14:42:41.281502Z"
    }
   },
   "outputs": [],
   "source": [
    "def parse_na1(dftmp):\n",
    "    d = {}\n",
    "    for i in dftmp.columns:\n",
    "        if dftmp[i].nunique() < 10:\n",
    "            status1 = dftmp[df['status']==1][i].value_counts().index[0]\n",
    "            status0 = dftmp[df['status']==0][i].value_counts().index[0]\n",
    "            d[i] = {'1':status1, '0':status0}\n",
    "        elif dftmp[i].nunique() > 10:\n",
    "            status1 = int(dftmp[df['status']==1][i].dropna().mean())\n",
    "            status0 = int(dftmp[df['status']==0][i].dropna().mean())\n",
    "            d[i] = {'1':status1, '0':status0}\n",
    "    return d"
   ]
  },
  {
   "cell_type": "code",
   "execution_count": 60,
   "metadata": {
    "ExecuteTime": {
     "end_time": "2019-03-02T14:42:41.397193Z",
     "start_time": "2019-03-02T14:42:41.293470Z"
    }
   },
   "outputs": [],
   "source": [
    "na1_values = parse_na1(na1)"
   ]
  },
  {
   "cell_type": "code",
   "execution_count": 61,
   "metadata": {
    "ExecuteTime": {
     "end_time": "2019-03-02T14:42:41.615615Z",
     "start_time": "2019-03-02T14:42:41.399188Z"
    }
   },
   "outputs": [],
   "source": [
    "for i in na1.columns:\n",
    "    df.loc[(df[i].isnull()) & (df['status'] == 0), i] = na1_values[i]['0']\n",
    "    df.loc[(df[i].isnull()) & (df['status'] == 1), i] = na1_values[i]['1']"
   ]
  },
  {
   "cell_type": "markdown",
   "metadata": {},
   "source": [
    "### 缺失比例 1%~10%"
   ]
  },
  {
   "cell_type": "markdown",
   "metadata": {
    "ExecuteTime": {
     "end_time": "2019-03-02T12:00:24.093380Z",
     "start_time": "2019-03-02T12:00:24.010603Z"
    }
   },
   "source": [
    "用随机森林预测填充这部分数据"
   ]
  },
  {
   "cell_type": "code",
   "execution_count": 62,
   "metadata": {
    "ExecuteTime": {
     "end_time": "2019-03-02T14:42:41.640542Z",
     "start_time": "2019-03-02T14:42:41.616606Z"
    }
   },
   "outputs": [],
   "source": [
    "na10 = df[df.columns[(df.isnull().sum(0)/df.shape[0] <= 0.1)\n",
    "                     & (df.isnull().sum(0)/df.shape[0] >= 0.01)]]"
   ]
  },
  {
   "cell_type": "code",
   "execution_count": 63,
   "metadata": {
    "ExecuteTime": {
     "end_time": "2019-03-02T14:42:41.645528Z",
     "start_time": "2019-03-02T14:42:41.641540Z"
    }
   },
   "outputs": [],
   "source": [
    "def parse_time(s):\n",
    "    try:\n",
    "        dt = time.mktime(datetime.datetime.strptime(s, \"%Y-%m-%d\").timetuple())\n",
    "    except:\n",
    "        dt = np.nan\n",
    "    return dt"
   ]
  },
  {
   "cell_type": "code",
   "execution_count": 64,
   "metadata": {
    "ExecuteTime": {
     "end_time": "2019-03-02T14:42:41.825081Z",
     "start_time": "2019-03-02T14:42:41.707366Z"
    }
   },
   "outputs": [],
   "source": [
    "na10['latest_query_time'] = na10['latest_query_time'].apply(parse_time)\n",
    "na10['loans_latest_time'] = na10['loans_latest_time'].apply(parse_time)"
   ]
  },
  {
   "cell_type": "code",
   "execution_count": 65,
   "metadata": {
    "ExecuteTime": {
     "end_time": "2019-03-02T14:42:41.899849Z",
     "start_time": "2019-03-02T14:42:41.894861Z"
    }
   },
   "outputs": [],
   "source": [
    "def predict_nan(c):\n",
    "#     c = 'consfin_avg_limit'\n",
    "    nan_exist = df.loc[df[c].notnull()].drop(na10.columns, axis=1)\n",
    "    y_nan = na10[c][na10[c].notnull()]\n",
    "    nan_null = df.loc[df[c].isnull()].drop(na10.columns, axis=1)\n",
    "    x = nan_exist.values\n",
    "    y = y_nan.values\n",
    "    rfr = RandomForestRegressor(n_estimators=100)\n",
    "    rfr.fit(x, y)\n",
    "    c_hat = rfr.predict(nan_null.values)\n",
    "    c_hat = c_hat.astype(int)\n",
    "    na10.loc[(na10[c].isnull()), c] = c_hat"
   ]
  },
  {
   "cell_type": "code",
   "execution_count": 66,
   "metadata": {
    "ExecuteTime": {
     "end_time": "2019-03-02T14:48:27.176695Z",
     "start_time": "2019-03-02T14:42:42.380564Z"
    }
   },
   "outputs": [
    {
     "name": "stdout",
     "output_type": "stream",
     "text": [
      "columns avg_price_top_last_12_valid_month\n",
      "columns cross_consume_count_last_1_month\n",
      "columns apply_score\n",
      "columns apply_credibility\n",
      "columns query_org_count\n",
      "columns query_finance_count\n",
      "columns query_cash_count\n",
      "columns query_sum_count\n",
      "columns latest_query_time\n",
      "columns latest_one_month_apply\n",
      "columns latest_three_month_apply\n",
      "columns latest_six_month_apply\n",
      "columns loans_score\n",
      "columns loans_credibility_behavior\n",
      "columns loans_count\n",
      "columns loans_settle_count\n",
      "columns loans_overdue_count\n",
      "columns loans_org_count_behavior\n",
      "columns consfin_org_count_behavior\n",
      "columns loans_cash_count\n",
      "columns latest_one_month_loan\n",
      "columns latest_three_month_loan\n",
      "columns latest_six_month_loan\n",
      "columns history_suc_fee\n",
      "columns history_fail_fee\n",
      "columns latest_one_month_suc\n",
      "columns latest_one_month_fail\n",
      "columns loans_long_time\n",
      "columns loans_latest_time\n",
      "columns loans_credit_limit\n",
      "columns loans_credibility_limit\n",
      "columns loans_org_count_current\n",
      "columns loans_product_count\n",
      "columns loans_max_limit\n",
      "columns loans_avg_limit\n",
      "columns consfin_credit_limit\n",
      "columns consfin_credibility\n",
      "columns consfin_org_count_current\n",
      "columns consfin_product_count\n",
      "columns consfin_max_limit\n",
      "columns consfin_avg_limit\n",
      "columns latest_query_day\n",
      "columns loans_latest_day\n"
     ]
    }
   ],
   "source": [
    "for c in na10.columns:\n",
    "    print('columns', c)\n",
    "    predict_nan(c)"
   ]
  },
  {
   "cell_type": "code",
   "execution_count": 67,
   "metadata": {
    "ExecuteTime": {
     "end_time": "2019-03-02T14:48:27.290364Z",
     "start_time": "2019-03-02T14:48:27.178693Z"
    }
   },
   "outputs": [],
   "source": [
    "na10['loans_latest_time'] = pd.to_datetime(na10['loans_latest_time'], unit='s').dt.strftime('%Y-%m-%d')\n",
    "na10['latest_query_time'] = pd.to_datetime(na10['latest_query_time'], unit='s').dt.strftime('%Y-%m-%d')"
   ]
  },
  {
   "cell_type": "code",
   "execution_count": 68,
   "metadata": {
    "ExecuteTime": {
     "end_time": "2019-03-02T14:48:27.303329Z",
     "start_time": "2019-03-02T14:48:27.292358Z"
    }
   },
   "outputs": [],
   "source": [
    "for i in na10.columns:\n",
    "    df[i] = na10[i]"
   ]
  },
  {
   "cell_type": "code",
   "execution_count": 69,
   "metadata": {
    "ExecuteTime": {
     "end_time": "2019-03-02T14:51:09.971449Z",
     "start_time": "2019-03-02T14:51:09.945515Z"
    }
   },
   "outputs": [
    {
     "data": {
      "text/plain": [
       "Series([], dtype: float64)"
      ]
     },
     "execution_count": 69,
     "metadata": {},
     "output_type": "execute_result"
    }
   ],
   "source": [
    "# 缺失值处理完毕\n",
    "df.isnull().sum(axis=0)[df.isnull().sum(axis=0)!=0]/df.shape[0]"
   ]
  },
  {
   "cell_type": "code",
   "execution_count": 70,
   "metadata": {},
   "outputs": [],
   "source": [
    "df.to_csv('data_.csv')"
   ]
  },
  {
   "cell_type": "code",
   "execution_count": null,
   "metadata": {},
   "outputs": [],
   "source": []
  }
 ],
 "metadata": {
  "kernelspec": {
   "display_name": "Python 3",
   "language": "python",
   "name": "python3"
  },
  "language_info": {
   "codemirror_mode": {
    "name": "ipython",
    "version": 3
   },
   "file_extension": ".py",
   "mimetype": "text/x-python",
   "name": "python",
   "nbconvert_exporter": "python",
   "pygments_lexer": "ipython3",
   "version": "3.7.2"
  },
  "toc": {
   "base_numbering": 1,
   "nav_menu": {},
   "number_sections": true,
   "sideBar": true,
   "skip_h1_title": false,
   "title_cell": "Table of Contents",
   "title_sidebar": "Contents",
   "toc_cell": false,
   "toc_position": {
    "height": "calc(100% - 180px)",
    "left": "10px",
    "top": "150px",
    "width": "256px"
   },
   "toc_section_display": true,
   "toc_window_display": true
  }
 },
 "nbformat": 4,
 "nbformat_minor": 2
}
