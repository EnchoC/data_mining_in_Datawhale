{
 "cells": [
  {
   "cell_type": "markdown",
   "metadata": {},
   "source": [
    "### Taks 2"
   ]
  },
  {
   "cell_type": "markdown",
   "metadata": {},
   "source": [
    "【特征工程（2天）】\n",
    "\n",
    "对数据特征进行衍生和进行特征挑选。包括但不限于：\n",
    "\n",
    "特征衍生\n",
    "\n",
    "特征挑选：分别用IV值和随机森林等进行特征选择\n",
    "\n",
    "……以及你能想到特征工程处理"
   ]
  },
  {
   "cell_type": "code",
   "execution_count": 11,
   "metadata": {},
   "outputs": [],
   "source": [
    "import pandas as pd\n",
    "import math\n",
    "import numpy as np\n",
    "from scipy import stats\n",
    "from sklearn.utils.multiclass import type_of_target"
   ]
  },
  {
   "cell_type": "code",
   "execution_count": 80,
   "metadata": {},
   "outputs": [],
   "source": [
    "data = pd.read_csv('data_.csv')"
   ]
  },
  {
   "cell_type": "code",
   "execution_count": 81,
   "metadata": {},
   "outputs": [],
   "source": [
    "data.drop('Unnamed: 0', axis=1, inplace=True)"
   ]
  },
  {
   "cell_type": "code",
   "execution_count": 82,
   "metadata": {},
   "outputs": [
    {
     "data": {
      "text/html": [
       "<div>\n",
       "<style scoped>\n",
       "    .dataframe tbody tr th:only-of-type {\n",
       "        vertical-align: middle;\n",
       "    }\n",
       "\n",
       "    .dataframe tbody tr th {\n",
       "        vertical-align: top;\n",
       "    }\n",
       "\n",
       "    .dataframe thead th {\n",
       "        text-align: right;\n",
       "    }\n",
       "</style>\n",
       "<table border=\"1\" class=\"dataframe\">\n",
       "  <thead>\n",
       "    <tr style=\"text-align: right;\">\n",
       "      <th></th>\n",
       "      <th>custid</th>\n",
       "      <th>low_volume_percent</th>\n",
       "      <th>middle_volume_percent</th>\n",
       "      <th>take_amount_in_later_12_month_highest</th>\n",
       "      <th>trans_amount_increase_rate_lately</th>\n",
       "      <th>trans_activity_month</th>\n",
       "      <th>trans_activity_day</th>\n",
       "      <th>transd_mcc</th>\n",
       "      <th>trans_days_interval_filter</th>\n",
       "      <th>trans_days_interval</th>\n",
       "      <th>...</th>\n",
       "      <th>consfin_max_limit</th>\n",
       "      <th>consfin_avg_limit</th>\n",
       "      <th>latest_query_day</th>\n",
       "      <th>loans_latest_day</th>\n",
       "      <th>tradeno_day</th>\n",
       "      <th>is_Li_Ming</th>\n",
       "      <th>cust_id_bin</th>\n",
       "      <th>student_feat_1</th>\n",
       "      <th>student_feat_2</th>\n",
       "      <th>student_feat_na</th>\n",
       "    </tr>\n",
       "  </thead>\n",
       "  <tbody>\n",
       "    <tr>\n",
       "      <th>0</th>\n",
       "      <td>2791858</td>\n",
       "      <td>0.01</td>\n",
       "      <td>0.99</td>\n",
       "      <td>0</td>\n",
       "      <td>0.90</td>\n",
       "      <td>0.55</td>\n",
       "      <td>0.313</td>\n",
       "      <td>17.0</td>\n",
       "      <td>27.0</td>\n",
       "      <td>26.0</td>\n",
       "      <td>...</td>\n",
       "      <td>1200.0</td>\n",
       "      <td>1200.0</td>\n",
       "      <td>12.0</td>\n",
       "      <td>18.0</td>\n",
       "      <td>7</td>\n",
       "      <td>0</td>\n",
       "      <td>2500000.0</td>\n",
       "      <td>0</td>\n",
       "      <td>0</td>\n",
       "      <td>1</td>\n",
       "    </tr>\n",
       "    <tr>\n",
       "      <th>1</th>\n",
       "      <td>534047</td>\n",
       "      <td>0.02</td>\n",
       "      <td>0.94</td>\n",
       "      <td>2000</td>\n",
       "      <td>1.28</td>\n",
       "      <td>1.00</td>\n",
       "      <td>0.458</td>\n",
       "      <td>19.0</td>\n",
       "      <td>30.0</td>\n",
       "      <td>14.0</td>\n",
       "      <td>...</td>\n",
       "      <td>22800.0</td>\n",
       "      <td>9360.0</td>\n",
       "      <td>4.0</td>\n",
       "      <td>2.0</td>\n",
       "      <td>7</td>\n",
       "      <td>0</td>\n",
       "      <td>100000.0</td>\n",
       "      <td>1</td>\n",
       "      <td>0</td>\n",
       "      <td>0</td>\n",
       "    </tr>\n",
       "    <tr>\n",
       "      <th>2</th>\n",
       "      <td>2849787</td>\n",
       "      <td>0.04</td>\n",
       "      <td>0.96</td>\n",
       "      <td>0</td>\n",
       "      <td>1.00</td>\n",
       "      <td>1.00</td>\n",
       "      <td>0.114</td>\n",
       "      <td>13.0</td>\n",
       "      <td>68.0</td>\n",
       "      <td>22.0</td>\n",
       "      <td>...</td>\n",
       "      <td>4200.0</td>\n",
       "      <td>4200.0</td>\n",
       "      <td>2.0</td>\n",
       "      <td>6.0</td>\n",
       "      <td>7</td>\n",
       "      <td>0</td>\n",
       "      <td>2500000.0</td>\n",
       "      <td>0</td>\n",
       "      <td>0</td>\n",
       "      <td>1</td>\n",
       "    </tr>\n",
       "    <tr>\n",
       "      <th>3</th>\n",
       "      <td>1809708</td>\n",
       "      <td>0.00</td>\n",
       "      <td>0.96</td>\n",
       "      <td>2000</td>\n",
       "      <td>0.13</td>\n",
       "      <td>0.57</td>\n",
       "      <td>0.777</td>\n",
       "      <td>22.0</td>\n",
       "      <td>14.0</td>\n",
       "      <td>6.0</td>\n",
       "      <td>...</td>\n",
       "      <td>30000.0</td>\n",
       "      <td>12180.0</td>\n",
       "      <td>2.0</td>\n",
       "      <td>4.0</td>\n",
       "      <td>7</td>\n",
       "      <td>0</td>\n",
       "      <td>1000000.0</td>\n",
       "      <td>0</td>\n",
       "      <td>0</td>\n",
       "      <td>1</td>\n",
       "    </tr>\n",
       "    <tr>\n",
       "      <th>4</th>\n",
       "      <td>2499829</td>\n",
       "      <td>0.01</td>\n",
       "      <td>0.99</td>\n",
       "      <td>0</td>\n",
       "      <td>0.46</td>\n",
       "      <td>1.00</td>\n",
       "      <td>0.175</td>\n",
       "      <td>13.0</td>\n",
       "      <td>66.0</td>\n",
       "      <td>42.0</td>\n",
       "      <td>...</td>\n",
       "      <td>8400.0</td>\n",
       "      <td>8250.0</td>\n",
       "      <td>22.0</td>\n",
       "      <td>120.0</td>\n",
       "      <td>7</td>\n",
       "      <td>0</td>\n",
       "      <td>1000000.0</td>\n",
       "      <td>0</td>\n",
       "      <td>0</td>\n",
       "      <td>1</td>\n",
       "    </tr>\n",
       "  </tbody>\n",
       "</table>\n",
       "<p>5 rows × 90 columns</p>\n",
       "</div>"
      ],
      "text/plain": [
       "    custid  low_volume_percent  middle_volume_percent  \\\n",
       "0  2791858                0.01                   0.99   \n",
       "1   534047                0.02                   0.94   \n",
       "2  2849787                0.04                   0.96   \n",
       "3  1809708                0.00                   0.96   \n",
       "4  2499829                0.01                   0.99   \n",
       "\n",
       "   take_amount_in_later_12_month_highest  trans_amount_increase_rate_lately  \\\n",
       "0                                      0                               0.90   \n",
       "1                                   2000                               1.28   \n",
       "2                                      0                               1.00   \n",
       "3                                   2000                               0.13   \n",
       "4                                      0                               0.46   \n",
       "\n",
       "   trans_activity_month  trans_activity_day  transd_mcc  \\\n",
       "0                  0.55               0.313        17.0   \n",
       "1                  1.00               0.458        19.0   \n",
       "2                  1.00               0.114        13.0   \n",
       "3                  0.57               0.777        22.0   \n",
       "4                  1.00               0.175        13.0   \n",
       "\n",
       "   trans_days_interval_filter  trans_days_interval       ...         \\\n",
       "0                        27.0                 26.0       ...          \n",
       "1                        30.0                 14.0       ...          \n",
       "2                        68.0                 22.0       ...          \n",
       "3                        14.0                  6.0       ...          \n",
       "4                        66.0                 42.0       ...          \n",
       "\n",
       "   consfin_max_limit  consfin_avg_limit  latest_query_day  loans_latest_day  \\\n",
       "0             1200.0             1200.0              12.0              18.0   \n",
       "1            22800.0             9360.0               4.0               2.0   \n",
       "2             4200.0             4200.0               2.0               6.0   \n",
       "3            30000.0            12180.0               2.0               4.0   \n",
       "4             8400.0             8250.0              22.0             120.0   \n",
       "\n",
       "   tradeno_day  is_Li_Ming  cust_id_bin  student_feat_1  student_feat_2  \\\n",
       "0            7           0    2500000.0               0               0   \n",
       "1            7           0     100000.0               1               0   \n",
       "2            7           0    2500000.0               0               0   \n",
       "3            7           0    1000000.0               0               0   \n",
       "4            7           0    1000000.0               0               0   \n",
       "\n",
       "   student_feat_na  \n",
       "0                1  \n",
       "1                0  \n",
       "2                1  \n",
       "3                1  \n",
       "4                1  \n",
       "\n",
       "[5 rows x 90 columns]"
      ]
     },
     "execution_count": 82,
     "metadata": {},
     "output_type": "execute_result"
    }
   ],
   "source": [
    "data.head()"
   ]
  },
  {
   "cell_type": "code",
   "execution_count": 83,
   "metadata": {},
   "outputs": [],
   "source": [
    "# 处理两个是object的数据，转化为日期数据\n",
    "object_list = data.describe(include='O').columns.tolist()\n",
    "for col in object_list:\n",
    "    data[col] = data[col].astype('datetime64[ns]')\n",
    "    data['%s_year'%col] = data[col].dt.year.astype('int32')\n",
    "    data['%s_month'%col] = data[col].dt.month.astype('int32')\n",
    "    data['%s_day'%col] = data[col].dt.day.astype('int32')\n",
    "data = data.drop(object_list, axis=1, inplace=False)"
   ]
  },
  {
   "cell_type": "code",
   "execution_count": 84,
   "metadata": {},
   "outputs": [
    {
     "name": "stdout",
     "output_type": "stream",
     "text": [
      "<class 'pandas.core.frame.DataFrame'>\n",
      "RangeIndex: 4754 entries, 0 to 4753\n",
      "Columns: 94 entries, custid to loans_latest_time_day\n",
      "dtypes: float64(71), int32(6), int64(17)\n",
      "memory usage: 3.3 MB\n"
     ]
    }
   ],
   "source": [
    "data.info(verbose=False)"
   ]
  },
  {
   "cell_type": "code",
   "execution_count": 112,
   "metadata": {},
   "outputs": [],
   "source": [
    "from sklearn.model_selection import train_test_split\n",
    "X = data.drop(['status'], axis=1 ,inplace=False)\n",
    "Y = data['status']\n",
    "X_train, X_test, Y_train, Y_test = train_test_split( X , Y , test_size = 0.2, random_state = 0)"
   ]
  },
  {
   "cell_type": "markdown",
   "metadata": {},
   "source": [
    "### 特征衍生"
   ]
  },
  {
   "cell_type": "markdown",
   "metadata": {},
   "source": [
    "多项式法构造特征"
   ]
  },
  {
   "cell_type": "code",
   "execution_count": 86,
   "metadata": {},
   "outputs": [],
   "source": [
    "import time\n",
    "from sklearn.preprocessing import PolynomialFeatures\n",
    "\n",
    "poly = PolynomialFeatures(degree=2, # degree控制多项式最高次数\n",
    "                          interaction_only=True,\n",
    "                          include_bias=False)\n",
    "x_train_new = poly.fit_transform(X_train)\n",
    "x_test_new = poly.transform(X_test)"
   ]
  },
  {
   "cell_type": "code",
   "execution_count": 122,
   "metadata": {},
   "outputs": [],
   "source": [
    "# 暂时不怎么会，后面再补充这方面的知识"
   ]
  },
  {
   "cell_type": "markdown",
   "metadata": {},
   "source": [
    "### 特征选择-IV值"
   ]
  },
  {
   "cell_type": "markdown",
   "metadata": {},
   "source": [
    "#### 1、IV值概述："
   ]
  },
  {
   "cell_type": "markdown",
   "metadata": {},
   "source": [
    "IV值（Information Value）\n",
    "- 中文意思是信息价值，或者信息量。\n",
    "- 是评分卡模型中的一个常见指标，“用IV去衡量变量预测能力”，在金融风控领域得到了广泛的应用。\n",
    "- IV值衡量了某个特征对目标的影响程度，其基本思想是根据该特征所命中黑白样本的比率与总黑白样本的比率，来对比和计算其关联程度\n",
    "- 因为计算过程中用的是命中黑白样本各自的比例，所以在工程实践中，一定程度上规避了黑白样本数的不同选择所带来的偏差。"
   ]
  },
  {
   "cell_type": "markdown",
   "metadata": {},
   "source": [
    "<img src='images/1.png'>"
   ]
  },
  {
   "cell_type": "markdown",
   "metadata": {},
   "source": [
    "#### 2、根据IV值选择特征"
   ]
  },
  {
   "cell_type": "markdown",
   "metadata": {},
   "source": [
    "<img src='images/2.png'>"
   ]
  },
  {
   "cell_type": "markdown",
   "metadata": {},
   "source": [
    "- 根据参考数据得出，IV值并非越大越好，越小也不好\n",
    "- 当IV值大于0.5时，我们需要对这个特征打个疑问，因为它过于太好而显得不够真实。\n",
    "- 通常会选择0.1~0.5这个范围"
   ]
  },
  {
   "cell_type": "code",
   "execution_count": 87,
   "metadata": {},
   "outputs": [],
   "source": [
    "def woe(X, y, event=1):  \n",
    "    res_woe = []\n",
    "    iv_dict = {}\n",
    "    for feature in X.columns:\n",
    "        x = X[feature].values\n",
    "        # 1) 连续特征离散化\n",
    "        if type_of_target(x) == 'continuous':\n",
    "            x = discrete(x)\n",
    "        # 2) 计算该特征的woe和iv\n",
    "        woe_dict, iv = woe_single_x(x, y, feature, event)\n",
    "        iv_dict[feature] = iv\n",
    "        res_woe.append(woe_dict) \n",
    "    return iv_dict\n",
    "\n",
    "def discrete(x):\n",
    "    # 使用5等分离散化特征\n",
    "    res = np.zeros(x.shape)\n",
    "    for i in range(5):\n",
    "        point1 = stats.scoreatpercentile(x, i * 20)\n",
    "        point2 = stats.scoreatpercentile(x, (i + 1) * 20)\n",
    "        x1 = x[np.where((x >= point1) & (x <= point2))]\n",
    "        mask = np.in1d(x, x1)\n",
    "        res[mask] = i + 1    # 将[i, i+1]块内的值标记成i+1\n",
    "    return res\n",
    "\n",
    "def woe_single_x(x, y, feature,event = 1):\n",
    "    # event代表预测正例的标签\n",
    "    event_total = sum(y == event)\n",
    "    non_event_total = y.shape[-1] - event_total\n",
    "    iv = 0\n",
    "    woe_dict = {}\n",
    "    for x1 in set(x):    # 遍历各个块\n",
    "        y1 = y.reindex(np.where(x == x1)[0])\n",
    "        event_count = sum(y1 == event)\n",
    "        non_event_count = y1.shape[-1] - event_count\n",
    "        rate_event = event_count / event_total    \n",
    "        rate_non_event = non_event_count / non_event_total\n",
    "        if rate_event == 0:\n",
    "            rate_event = 0.0001\n",
    "        elif rate_non_event == 0:\n",
    "            rate_non_event = 0.0001\n",
    "        woei = math.log(rate_event / rate_non_event)\n",
    "        woe_dict[x1] = woei\n",
    "        iv += (rate_event - rate_non_event) * woei\n",
    "    return woe_dict, iv"
   ]
  },
  {
   "cell_type": "code",
   "execution_count": 88,
   "metadata": {},
   "outputs": [
    {
     "data": {
      "text/html": [
       "<div>\n",
       "<style scoped>\n",
       "    .dataframe tbody tr th:only-of-type {\n",
       "        vertical-align: middle;\n",
       "    }\n",
       "\n",
       "    .dataframe tbody tr th {\n",
       "        vertical-align: top;\n",
       "    }\n",
       "\n",
       "    .dataframe thead th {\n",
       "        text-align: right;\n",
       "    }\n",
       "</style>\n",
       "<table border=\"1\" class=\"dataframe\">\n",
       "  <thead>\n",
       "    <tr style=\"text-align: right;\">\n",
       "      <th></th>\n",
       "      <th>0</th>\n",
       "      <th>1</th>\n",
       "    </tr>\n",
       "  </thead>\n",
       "  <tbody>\n",
       "    <tr>\n",
       "      <th>0</th>\n",
       "      <td>custid</td>\n",
       "      <td>2.621737</td>\n",
       "    </tr>\n",
       "    <tr>\n",
       "      <th>1</th>\n",
       "      <td>historical_trans_amount</td>\n",
       "      <td>2.579785</td>\n",
       "    </tr>\n",
       "    <tr>\n",
       "      <th>2</th>\n",
       "      <td>trans_amount_3_month</td>\n",
       "      <td>2.430920</td>\n",
       "    </tr>\n",
       "    <tr>\n",
       "      <th>3</th>\n",
       "      <td>pawns_auctions_trusts_consume_last_6_month</td>\n",
       "      <td>2.196663</td>\n",
       "    </tr>\n",
       "  </tbody>\n",
       "</table>\n",
       "</div>"
      ],
      "text/plain": [
       "                                            0         1\n",
       "0                                      custid  2.621737\n",
       "1                     historical_trans_amount  2.579785\n",
       "2                        trans_amount_3_month  2.430920\n",
       "3  pawns_auctions_trusts_consume_last_6_month  2.196663"
      ]
     },
     "execution_count": 88,
     "metadata": {},
     "output_type": "execute_result"
    }
   ],
   "source": [
    "iv_dict = woe(X_train, Y_train)\n",
    "iv = pd.DataFrame(sorted(iv_dict.items(), key = lambda x:x[1],reverse = True))\n",
    "iv.head(4)"
   ]
  },
  {
   "cell_type": "code",
   "execution_count": 89,
   "metadata": {},
   "outputs": [
    {
     "name": "stdout",
     "output_type": "stream",
     "text": [
      "原数据特征数94, 通过IV值筛选后的特征数64, 剔除了31.91%的特征\n"
     ]
    }
   ],
   "source": [
    "iv_one = iv[iv.iloc[:,1] > 0.1]\n",
    "iv_one_five = iv_one[iv_one.iloc[:,1] < 0.5]\n",
    "iv_cols = iv_one_five.iloc[:,0].tolist()\n",
    "print('原数据特征数{}, 通过IV值筛选后的特征数{}, 剔除了{:.2%}的特征'\\\n",
    "      .format(data.shape[1], len(iv_cols), (data.shape[1]-len(iv_cols))/data.shape[1]))"
   ]
  },
  {
   "cell_type": "markdown",
   "metadata": {},
   "source": [
    "### 3、随机森林进行特征选择\n",
    "- 主要是看每个特征在随机森林中的每棵树上做了多大的贡献，然后取平均值，最后比较不同特征之间的贡献大小。\n",
    "- 贡献度的衡量指标包括：基尼指数（gini）、袋外数据（OOB）错误率作为评价指标来衡量。"
   ]
  },
  {
   "cell_type": "code",
   "execution_count": 113,
   "metadata": {},
   "outputs": [
    {
     "data": {
      "text/plain": [
       "RandomForestClassifier(bootstrap=True, class_weight=None, criterion='gini',\n",
       "            max_depth=None, max_features='auto', max_leaf_nodes=None,\n",
       "            min_impurity_decrease=0.0, min_impurity_split=None,\n",
       "            min_samples_leaf=1, min_samples_split=2,\n",
       "            min_weight_fraction_leaf=0.0, n_estimators=10000, n_jobs=-1,\n",
       "            oob_score=False, random_state=0, verbose=0, warm_start=False)"
      ]
     },
     "execution_count": 113,
     "metadata": {},
     "output_type": "execute_result"
    }
   ],
   "source": [
    "from sklearn.ensemble import RandomForestClassifier\n",
    "# 1)训练模型\n",
    "forset = RandomForestClassifier(n_estimators=10000, random_state=0, n_jobs=-1)# 等于-1的时候，表示cpu里的所有core进行工作或者直接填写cpu数\n",
    "forset.fit(X_train, Y_train)"
   ]
  },
  {
   "cell_type": "code",
   "execution_count": 114,
   "metadata": {},
   "outputs": [
    {
     "name": "stdout",
     "output_type": "stream",
     "text": [
      " 1) history_fail_fee               0.051447\n",
      " 2) trans_fail_top_count_enum_last_6_month 0.044593\n",
      " 3) loans_score                    0.032914\n",
      " 4) latest_one_month_fail          0.030631\n",
      " 5) apply_score                    0.028710\n",
      " 6) loans_overdue_count            0.027377\n",
      " 7) max_consume_count_later_6_month 0.016594\n",
      " 8) avg_consume_less_12_valid_month 0.016369\n",
      " 9) latest_query_day               0.014917\n",
      "10) is_high_user                   0.014830\n",
      "11) top_trans_count_last_1_month   0.014450\n",
      "12) trans_activity_month           0.014239\n",
      "13) consfin_avg_limit              0.014201\n",
      "14) trans_fail_top_count_enum_last_12_month 0.014097\n",
      "15) consume_mini_time_last_1_month 0.014093\n",
      "16) avg_price_top_last_12_valid_month 0.014075\n",
      "17) historical_trans_day           0.014064\n",
      "18) low_volume_percent             0.013996\n",
      "19) trans_day_last_12_month        0.013525\n",
      "20) loans_latest_day               0.013430\n",
      "21) loans_avg_limit                0.013276\n",
      "22) jewelry_consume_count_last_6_month 0.013137\n",
      "23) first_transaction_day          0.012958\n",
      "24) historical_trans_amount        0.012882\n",
      "25) transd_mcc                     0.012860\n",
      "26) history_suc_fee                0.012718\n",
      "27) consfin_credit_limit           0.012537\n",
      "28) rank_trad_1_month              0.012322\n",
      "29) loans_long_time                0.011707\n",
      "30) trans_days_interval            0.011652\n",
      "31) trans_amount_3_month           0.011407\n",
      "32) consfin_max_limit              0.011383\n",
      "33) loans_settle_count             0.011283\n",
      "34) loans_count                    0.011276\n",
      "35) loans_max_limit                0.011120\n",
      "36) apply_credibility              0.010886\n",
      "37) loans_latest_time_day          0.010833\n",
      "38) cross_consume_count_last_1_month 0.010636\n",
      "39) first_transaction_time         0.010622\n",
      "40) consume_top_time_last_1_month  0.010596\n",
      "41) latest_query_time_day          0.010591\n",
      "42) loans_credit_limit             0.010561\n",
      "43) regional_mobility              0.010545\n",
      "44) query_sum_count                0.010363\n",
      "45) trans_top_time_last_6_month    0.010336\n",
      "46) latest_six_month_loan          0.009796\n",
      "47) latest_six_month_apply         0.009773\n",
      "48) trans_days_interval_filter     0.009765\n",
      "49) consume_top_time_last_6_month  0.009576\n",
      "50) trans_activity_day             0.009450\n",
      "51) latest_one_month_suc           0.009439\n",
      "52) query_org_count                0.009430\n",
      "53) latest_three_month_apply       0.009310\n",
      "54) loans_org_count_behavior       0.009208\n",
      "55) max_cumulative_consume_later_1_month 0.009121\n",
      "56) consfin_credibility            0.009012\n",
      "57) take_amount_in_later_12_month_highest 0.008921\n",
      "58) trans_amount_increase_rate_lately 0.008831\n",
      "59) pawns_auctions_trusts_consume_last_6_month 0.008728\n",
      "60) query_finance_count            0.008656\n",
      "61) loans_credibility_behavior     0.008472\n",
      "62) loans_product_count            0.008267\n",
      "63) loans_credibility_limit        0.008201\n",
      "64) loans_cash_count               0.007959\n",
      "65) reg_preference_for_trad        0.007931\n",
      "66) railway_consume_count_last_12_month 0.007900\n",
      "67) latest_one_month_apply         0.007856\n",
      "68) loans_org_count_current        0.007850\n",
      "69) query_cash_count               0.007622\n",
      "70) latest_three_month_loan        0.007559\n",
      "71) consfin_product_count          0.007332\n",
      "72) consfin_org_count_behavior     0.006577\n",
      "73) avg_price_last_12_month        0.006568\n",
      "74) consfin_org_count_current      0.006500\n",
      "75) middle_volume_percent          0.006429\n",
      "76) abs                            0.005921\n",
      "77) loans_latest_time_month        0.005620\n",
      "78) latest_query_time_month        0.004676\n",
      "79) repayment_capability           0.004098\n",
      "80) latest_one_month_loan          0.003566\n",
      "81) cust_id_bin                    0.003425\n",
      "82) trans_fail_top_count_enum_last_1_month 0.003273\n",
      "83) trans_top_time_last_1_month    0.002714\n",
      "84) tradeno_day                    0.001730\n",
      "85) student_feat_na                0.001551\n",
      "86) student_feat_1                 0.001545\n",
      "87) loans_latest_time_year         0.000933\n",
      "88) pawns_auctions_trusts_consume_last_1_month 0.000650\n",
      "89) latest_query_time_year         0.000496\n",
      "90) is_Li_Ming                     0.000299\n",
      "91) number_of_trans_from_2011      0.000222\n",
      "92) status                         0.000117\n",
      "93) student_feat_2                 0.000086\n"
     ]
    }
   ],
   "source": [
    "# 2)输出重要特征\n",
    "importances = forset.feature_importances_\n",
    "indices = np.argsort(importances)[::-1]\n",
    "feature_labels = data.columns[1:]\n",
    "for f in range(X_train.shape[1]):\n",
    "    print(\"%2d) %-*s %f\" % (f + 1, 30, feature_labels[indices[f]], importances[indices[f]]))"
   ]
  },
  {
   "cell_type": "code",
   "execution_count": 116,
   "metadata": {},
   "outputs": [
    {
     "name": "stdout",
     "output_type": "stream",
     "text": [
      "原数据特征数94, 通过随机森林筛选后的特征数45, 剔除了52.13%的特征\n"
     ]
    }
   ],
   "source": [
    "# 3)筛选重要特征\n",
    "threshold = 0.01\n",
    "x_selected = X_train.loc[:, importances > threshold]\n",
    "print('原数据特征数{}, 通过随机森林筛选后的特征数{}, 剔除了{:.2%}的特征'\\\n",
    "      .format(data.shape[1], x_selected.shape[1], (data.shape[1]-x_selected.shape[1])/data.shape[1]))"
   ]
  },
  {
   "cell_type": "markdown",
   "metadata": {},
   "source": [
    "References\n",
    "- [使用IV值和随机森林挑选特征](https://yezuolin.com/2018/11/IV&RandomForestClassifier/)\n",
    "- [达观杯-特征工程（特征衍生）](https://blog.csdn.net/linichengpps/article/details/83008219)\n",
    "- [Information Value (IV) and Weight of Evidence (WOE) – A Case Study from Banking](http://ucanalytics.com/blogs/information-value-and-weight-of-evidencebanking-case/)"
   ]
  },
  {
   "cell_type": "code",
   "execution_count": null,
   "metadata": {},
   "outputs": [],
   "source": []
  }
 ],
 "metadata": {
  "kernelspec": {
   "display_name": "Python 3",
   "language": "python",
   "name": "python3"
  },
  "language_info": {
   "codemirror_mode": {
    "name": "ipython",
    "version": 3
   },
   "file_extension": ".py",
   "mimetype": "text/x-python",
   "name": "python",
   "nbconvert_exporter": "python",
   "pygments_lexer": "ipython3",
   "version": "3.7.2"
  }
 },
 "nbformat": 4,
 "nbformat_minor": 2
}
